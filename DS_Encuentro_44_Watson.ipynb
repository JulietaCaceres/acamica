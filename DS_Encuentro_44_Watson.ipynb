{
 "cells": [
  {
   "cell_type": "markdown",
   "metadata": {},
   "source": [
    "# IBM Watson\n",
    "\n",
    "Paso 0: Configurar Watson (instalar librerías, armar usuario y conseguir los permisos necesarios)."
   ]
  },
  {
   "cell_type": "code",
   "execution_count": 1,
   "metadata": {
    "scrolled": true
   },
   "outputs": [
    {
     "name": "stdout",
     "output_type": "stream",
     "text": [
      "Collecting watson-developer-cloud\n",
      "\u001b[?25l  Downloading https://files.pythonhosted.org/packages/fc/a5/a89fc49bd82eb6ea569e45b43383c28cd51b5076f43010dcc3331c137ff5/watson-developer-cloud-2.10.1.tar.gz (248kB)\n",
      "\u001b[K     |████████████████████████████████| 256kB 653kB/s eta 0:00:01\n",
      "\u001b[?25hRequirement already satisfied, skipping upgrade: requests<3.0,>=2.0 in /home/missPanda/repos/devenv3/lib/python3.7/site-packages (from watson-developer-cloud) (2.21.0)\n",
      "Requirement already satisfied, skipping upgrade: python_dateutil>=2.5.3 in /home/missPanda/repos/devenv3/lib/python3.7/site-packages (from watson-developer-cloud) (2.8.0)\n",
      "Collecting websocket-client==0.48.0\n",
      "\u001b[?25l  Downloading https://files.pythonhosted.org/packages/8a/a1/72ef9aa26cfe1a75cee09fc1957e4723add9de098c15719416a1ee89386b/websocket_client-0.48.0-py2.py3-none-any.whl (198kB)\n",
      "\u001b[K     |████████████████████████████████| 204kB 1.3MB/s eta 0:00:01\n",
      "\u001b[?25hRequirement already satisfied, skipping upgrade: idna<2.9,>=2.5 in /home/missPanda/repos/devenv3/lib/python3.7/site-packages (from requests<3.0,>=2.0->watson-developer-cloud) (2.8)\n",
      "Requirement already satisfied, skipping upgrade: certifi>=2017.4.17 in /home/missPanda/repos/devenv3/lib/python3.7/site-packages (from requests<3.0,>=2.0->watson-developer-cloud) (2019.3.9)\n",
      "Requirement already satisfied, skipping upgrade: urllib3<1.25,>=1.21.1 in /home/missPanda/repos/devenv3/lib/python3.7/site-packages (from requests<3.0,>=2.0->watson-developer-cloud) (1.24.1)\n",
      "Requirement already satisfied, skipping upgrade: chardet<3.1.0,>=3.0.2 in /home/missPanda/repos/devenv3/lib/python3.7/site-packages (from requests<3.0,>=2.0->watson-developer-cloud) (3.0.4)\n",
      "Requirement already satisfied, skipping upgrade: six>=1.5 in /home/missPanda/repos/devenv3/lib/python3.7/site-packages (from python_dateutil>=2.5.3->watson-developer-cloud) (1.12.0)\n",
      "Building wheels for collected packages: watson-developer-cloud\n",
      "  Building wheel for watson-developer-cloud (setup.py) ... \u001b[?25ldone\n",
      "\u001b[?25h  Created wheel for watson-developer-cloud: filename=watson_developer_cloud-2.10.1-cp37-none-any.whl size=252814 sha256=ea85878d049cecb3a3accec96ba3194d2619e755dbe860b55980e9f43521b81d\n",
      "  Stored in directory: /home/missPanda/.cache/pip/wheels/ea/a7/19/fac0a408a586265eb374005308a7553d4494ab41b2fd88f5bc\n",
      "Successfully built watson-developer-cloud\n",
      "Installing collected packages: websocket-client, watson-developer-cloud\n",
      "Successfully installed watson-developer-cloud-2.10.1 websocket-client-0.48.0\n",
      "\u001b[33mWARNING: You are using pip version 19.3.1; however, version 20.0.1 is available.\n",
      "You should consider upgrading via the 'pip install --upgrade pip' command.\u001b[0m\n",
      "Collecting watson-machine-learning-client\n",
      "\u001b[?25l  Downloading https://files.pythonhosted.org/packages/12/67/66db412f00d19bfdc5725078bff373787513bfb14320f2804b9db3abb53a/watson_machine_learning_client-1.0.378-py3-none-any.whl (536kB)\n",
      "\u001b[K     |████████████████████████████████| 542kB 611kB/s eta 0:00:01\n",
      "\u001b[?25hRequirement already satisfied, skipping upgrade: certifi in /home/missPanda/repos/devenv3/lib/python3.7/site-packages (from watson-machine-learning-client) (2019.3.9)\n",
      "Requirement already satisfied, skipping upgrade: requests in /home/missPanda/repos/devenv3/lib/python3.7/site-packages (from watson-machine-learning-client) (2.21.0)\n",
      "Collecting tabulate\n",
      "\u001b[?25l  Downloading https://files.pythonhosted.org/packages/c4/41/523f6a05e6dc3329a5660f6a81254c6cd87e5cfb5b7482bae3391d86ec3a/tabulate-0.8.6.tar.gz (45kB)\n",
      "\u001b[K     |████████████████████████████████| 51kB 547kB/s eta 0:00:011\n",
      "\u001b[?25hCollecting lomond\n",
      "  Downloading https://files.pythonhosted.org/packages/0f/b1/02eebed49c754b01b17de7705caa8c4ceecfb4f926cdafc220c863584360/lomond-0.3.3-py2.py3-none-any.whl\n",
      "Collecting ibm-cos-sdk\n",
      "\u001b[?25l  Downloading https://files.pythonhosted.org/packages/6f/91/86b2816c7b77d816b03a1ad6cf7db4b1f67556af395d5b93fdae6086c933/ibm-cos-sdk-2.6.0.tar.gz (53kB)\n",
      "\u001b[K     |████████████████████████████████| 61kB 888kB/s eta 0:00:011\n",
      "\u001b[?25hRequirement already satisfied, skipping upgrade: urllib3 in /home/missPanda/repos/devenv3/lib/python3.7/site-packages (from watson-machine-learning-client) (1.24.1)\n",
      "Requirement already satisfied, skipping upgrade: pandas in /home/missPanda/repos/devenv3/lib/python3.7/site-packages (from watson-machine-learning-client) (0.24.2)\n",
      "Requirement already satisfied, skipping upgrade: tqdm in /home/missPanda/repos/devenv3/lib/python3.7/site-packages (from watson-machine-learning-client) (4.34.0)\n",
      "Requirement already satisfied, skipping upgrade: chardet<3.1.0,>=3.0.2 in /home/missPanda/repos/devenv3/lib/python3.7/site-packages (from requests->watson-machine-learning-client) (3.0.4)\n",
      "Requirement already satisfied, skipping upgrade: idna<2.9,>=2.5 in /home/missPanda/repos/devenv3/lib/python3.7/site-packages (from requests->watson-machine-learning-client) (2.8)\n",
      "Requirement already satisfied, skipping upgrade: six>=1.10.0 in /home/missPanda/repos/devenv3/lib/python3.7/site-packages (from lomond->watson-machine-learning-client) (1.12.0)\n",
      "Collecting ibm-cos-sdk-core==2.6.0\n",
      "\u001b[?25l  Downloading https://files.pythonhosted.org/packages/ea/c1/c823507c472bf88dbd045445df6850744111d34fd218c6ea3b9c9bde2cfe/ibm-cos-sdk-core-2.6.0.tar.gz (763kB)\n",
      "\u001b[K     |████████████████████████████████| 768kB 1.2MB/s eta 0:00:01\n",
      "\u001b[?25hCollecting ibm-cos-sdk-s3transfer==2.6.0\n",
      "\u001b[?25l  Downloading https://files.pythonhosted.org/packages/6f/92/682a28b99777a3fdc65e6d5641ed7e1ca470d0eab3bb2826cc30c6b60e21/ibm-cos-sdk-s3transfer-2.6.0.tar.gz (221kB)\n",
      "\u001b[K     |████████████████████████████████| 225kB 1.5MB/s eta 0:00:01\n",
      "\u001b[?25hRequirement already satisfied, skipping upgrade: jmespath<1.0.0,>=0.7.1 in /home/missPanda/repos/devenv3/lib/python3.7/site-packages (from ibm-cos-sdk->watson-machine-learning-client) (0.9.4)\n",
      "Requirement already satisfied, skipping upgrade: pytz>=2011k in /home/missPanda/repos/devenv3/lib/python3.7/site-packages (from pandas->watson-machine-learning-client) (2018.9)\n",
      "Requirement already satisfied, skipping upgrade: numpy>=1.12.0 in /home/missPanda/repos/devenv3/lib/python3.7/site-packages (from pandas->watson-machine-learning-client) (1.16.2)\n",
      "Requirement already satisfied, skipping upgrade: python-dateutil>=2.5.0 in /home/missPanda/repos/devenv3/lib/python3.7/site-packages (from pandas->watson-machine-learning-client) (2.8.0)\n",
      "Requirement already satisfied, skipping upgrade: docutils<0.16,>=0.10 in /home/missPanda/repos/devenv3/lib/python3.7/site-packages (from ibm-cos-sdk-core==2.6.0->ibm-cos-sdk->watson-machine-learning-client) (0.15.2)\n",
      "Building wheels for collected packages: tabulate, ibm-cos-sdk, ibm-cos-sdk-core, ibm-cos-sdk-s3transfer\n",
      "  Building wheel for tabulate (setup.py) ... \u001b[?25ldone\n",
      "\u001b[?25h  Created wheel for tabulate: filename=tabulate-0.8.6-cp37-none-any.whl size=23271 sha256=e7546e105cf8b3444f9cf61a956521f7327d0d163052892220418a9eb29497e2\n",
      "  Stored in directory: /home/missPanda/.cache/pip/wheels/9c/9b/f4/eb243fdb89676ec00588e8c54bb54360724c06e7fafe95278e\n",
      "  Building wheel for ibm-cos-sdk (setup.py) ... \u001b[?25ldone\n",
      "\u001b[?25h  Created wheel for ibm-cos-sdk: filename=ibm_cos_sdk-2.6.0-py2.py3-none-any.whl size=72545 sha256=c071f6b464e875ca25449260789389bb85e324397159ad2c59cb1da2f113a056\n",
      "  Stored in directory: /home/missPanda/.cache/pip/wheels/37/9c/c4/a2c610ccb877d37c2cb87a5bfe55845fecffd6bb01bcd5e9d5\n",
      "  Building wheel for ibm-cos-sdk-core (setup.py) ... \u001b[?25ldone\n",
      "\u001b[?25h  Created wheel for ibm-cos-sdk-core: filename=ibm_cos_sdk_core-2.6.0-py2.py3-none-any.whl size=446391 sha256=5a2d4559c23f8aa2cf2a32ea6dfb68800291b3f3c4cdbca71b06e3d4cf865be9\n",
      "  Stored in directory: /home/missPanda/.cache/pip/wheels/75/93/e6/23071b2c037147a0993d34b64a03e51abca84435fc9cd6a278\n",
      "  Building wheel for ibm-cos-sdk-s3transfer (setup.py) ... \u001b[?25ldone\n",
      "\u001b[?25h  Created wheel for ibm-cos-sdk-s3transfer: filename=ibm_cos_sdk_s3transfer-2.6.0-py2.py3-none-any.whl size=89245 sha256=a4960458b3544e429e7da247fee03bf162481377139cf6cd733c019b21dcc95c\n",
      "  Stored in directory: /home/missPanda/.cache/pip/wheels/23/d9/d7/43fd95b014eed89466154d8373bf4cffbb3d972de7841e213c\n",
      "Successfully built tabulate ibm-cos-sdk ibm-cos-sdk-core ibm-cos-sdk-s3transfer\n",
      "Installing collected packages: tabulate, lomond, ibm-cos-sdk-core, ibm-cos-sdk-s3transfer, ibm-cos-sdk, watson-machine-learning-client\n"
     ]
    },
    {
     "name": "stdout",
     "output_type": "stream",
     "text": [
      "Successfully installed ibm-cos-sdk-2.6.0 ibm-cos-sdk-core-2.6.0 ibm-cos-sdk-s3transfer-2.6.0 lomond-0.3.3 tabulate-0.8.6 watson-machine-learning-client-1.0.378\n",
      "\u001b[33mWARNING: You are using pip version 19.3.1; however, version 20.0.1 is available.\n",
      "You should consider upgrading via the 'pip install --upgrade pip' command.\u001b[0m\n"
     ]
    }
   ],
   "source": [
    " !pip install --upgrade watson-developer-cloud\n",
    " !pip install --upgrade watson-machine-learning-client"
   ]
  },
  {
   "cell_type": "markdown",
   "metadata": {},
   "source": [
    "### Configurando la API de watson\n",
    "En este paso van a precisar usar el api_key que se generan en la página de IBM "
   ]
  },
  {
   "cell_type": "code",
   "execution_count": 3,
   "metadata": {},
   "outputs": [
    {
     "name": "stdout",
     "output_type": "stream",
     "text": [
      "Collecting ibm_watson\n",
      "\u001b[?25l  Downloading https://files.pythonhosted.org/packages/da/f4/7e256026ee22c75a630c6de53eb45b6fef4840ac6728b80a92dd2e523a1a/ibm-watson-4.2.1.tar.gz (348kB)\n",
      "\u001b[K     |████████████████████████████████| 358kB 1.2MB/s eta 0:00:01\n",
      "\u001b[?25hRequirement already satisfied: requests<3.0,>=2.0 in /home/missPanda/repos/devenv3/lib/python3.7/site-packages (from ibm_watson) (2.21.0)\n",
      "Requirement already satisfied: python_dateutil>=2.5.3 in /home/missPanda/repos/devenv3/lib/python3.7/site-packages (from ibm_watson) (2.8.0)\n",
      "Requirement already satisfied: websocket-client==0.48.0 in /home/missPanda/repos/devenv3/lib/python3.7/site-packages (from ibm_watson) (0.48.0)\n",
      "Collecting ibm_cloud_sdk_core==1.5.1\n",
      "  Downloading https://files.pythonhosted.org/packages/b7/f6/10d5271c807d73d236e6ae07b68035fed78b28b5ab836704d34097af3986/ibm-cloud-sdk-core-1.5.1.tar.gz\n",
      "Requirement already satisfied: idna<2.9,>=2.5 in /home/missPanda/repos/devenv3/lib/python3.7/site-packages (from requests<3.0,>=2.0->ibm_watson) (2.8)\n",
      "Requirement already satisfied: certifi>=2017.4.17 in /home/missPanda/repos/devenv3/lib/python3.7/site-packages (from requests<3.0,>=2.0->ibm_watson) (2019.3.9)\n",
      "Requirement already satisfied: urllib3<1.25,>=1.21.1 in /home/missPanda/repos/devenv3/lib/python3.7/site-packages (from requests<3.0,>=2.0->ibm_watson) (1.24.1)\n",
      "Requirement already satisfied: chardet<3.1.0,>=3.0.2 in /home/missPanda/repos/devenv3/lib/python3.7/site-packages (from requests<3.0,>=2.0->ibm_watson) (3.0.4)\n",
      "Requirement already satisfied: six>=1.5 in /home/missPanda/repos/devenv3/lib/python3.7/site-packages (from python_dateutil>=2.5.3->ibm_watson) (1.12.0)\n",
      "Requirement already satisfied: PyJWT>=1.7.1 in /home/missPanda/repos/devenv3/lib/python3.7/site-packages (from ibm_cloud_sdk_core==1.5.1->ibm_watson) (1.7.1)\n",
      "Building wheels for collected packages: ibm-watson, ibm-cloud-sdk-core\n",
      "  Building wheel for ibm-watson (setup.py) ... \u001b[?25ldone\n",
      "\u001b[?25h  Created wheel for ibm-watson: filename=ibm_watson-4.2.1-cp37-none-any.whl size=343298 sha256=960e0baa61b21e3e195b0fc20282a1f3ae6cf05098d9070ae5cad8400f358e02\n",
      "  Stored in directory: /home/missPanda/.cache/pip/wheels/ce/4d/6e/ae352b7c7acdddf073aeb06617fbfeefaea9fcb6d7ae98800b\n",
      "  Building wheel for ibm-cloud-sdk-core (setup.py) ... \u001b[?25ldone\n",
      "\u001b[?25h  Created wheel for ibm-cloud-sdk-core: filename=ibm_cloud_sdk_core-1.5.1-cp37-none-any.whl size=44492 sha256=8c836e8aacaeed1e250993445466df7c5683ed1840daa62b18b17e1056a6ce1a\n",
      "  Stored in directory: /home/missPanda/.cache/pip/wheels/6a/42/50/f96888116b329578304f9dda4693cef6f3e76e18272d22cb6c\n",
      "Successfully built ibm-watson ibm-cloud-sdk-core\n",
      "Installing collected packages: ibm-cloud-sdk-core, ibm-watson\n",
      "Successfully installed ibm-cloud-sdk-core-1.5.1 ibm-watson-4.2.1\n",
      "\u001b[33mWARNING: You are using pip version 19.3.1; however, version 20.0.1 is available.\n",
      "You should consider upgrading via the 'pip install --upgrade pip' command.\u001b[0m\n",
      "Note: you may need to restart the kernel to use updated packages.\n"
     ]
    }
   ],
   "source": [
    "pip install ibm_watson"
   ]
  },
  {
   "cell_type": "code",
   "execution_count": 1,
   "metadata": {},
   "outputs": [],
   "source": [
    "import warnings\n",
    "warnings.filterwarnings(\"ignore\")\n",
    "\n",
    "import numpy as np\n",
    "import pandas as pd\n",
    "\n",
    "# Eso aparecía a en el notebook que se bajan de la página (ya no funciona):\n",
    "# from watson_developer_cloud import NaturalLanguageUnderstandingV1\n",
    "# from watson_developer_cloud.natural_language_understanding_v1 import Features, EmotionOptions, SentimentOptions\n",
    "\n",
    "# Esta es la nueva forma de hacerlo\n",
    "from ibm_watson import NaturalLanguageUnderstandingV1\n",
    "from ibm_watson.natural_language_understanding_v1 import Features, CategoriesOptions, EmotionOptions, SentimentOptions"
   ]
  },
  {
   "cell_type": "code",
   "execution_count": 5,
   "metadata": {},
   "outputs": [
    {
     "name": "stdout",
     "output_type": "stream",
     "text": [
      "Help on class NaturalLanguageUnderstandingV1 in module ibm_watson.natural_language_understanding_v1:\n",
      "\n",
      "class NaturalLanguageUnderstandingV1(ibm_cloud_sdk_core.base_service.BaseService)\n",
      " |  NaturalLanguageUnderstandingV1(version: str, authenticator: ibm_cloud_sdk_core.authenticators.authenticator.Authenticator = None, service_name: str = 'natural-language-understanding') -> None\n",
      " |  \n",
      " |  The Natural Language Understanding V1 service.\n",
      " |  \n",
      " |  Method resolution order:\n",
      " |      NaturalLanguageUnderstandingV1\n",
      " |      ibm_cloud_sdk_core.base_service.BaseService\n",
      " |      builtins.object\n",
      " |  \n",
      " |  Methods defined here:\n",
      " |  \n",
      " |  __init__(self, version: str, authenticator: ibm_cloud_sdk_core.authenticators.authenticator.Authenticator = None, service_name: str = 'natural-language-understanding') -> None\n",
      " |      Construct a new client for the Natural Language Understanding service.\n",
      " |      \n",
      " |      :param str version: The API version date to use with the service, in\n",
      " |             \"YYYY-MM-DD\" format. Whenever the API is changed in a backwards\n",
      " |             incompatible way, a new minor version of the API is released.\n",
      " |             The service uses the API version for the date you specify, or\n",
      " |             the most recent version before that date. Note that you should\n",
      " |             not programmatically specify the current date at runtime, in\n",
      " |             case the API has been updated since your application's release.\n",
      " |             Instead, specify a version date that is compatible with your\n",
      " |             application, and don't change it until your application is\n",
      " |             ready for a later version.\n",
      " |      \n",
      " |      :param Authenticator authenticator: The authenticator specifies the authentication mechanism.\n",
      " |             Get up to date information from https://github.com/IBM/python-sdk-core/blob/master/README.md\n",
      " |             about initializing the authenticator of your choice.\n",
      " |  \n",
      " |  analyze(self, features: 'Features', *, text: str = None, html: str = None, url: str = None, clean: bool = None, xpath: str = None, fallback_to_raw: bool = None, return_analyzed_text: bool = None, language: str = None, limit_text_characters: int = None, **kwargs) -> 'DetailedResponse'\n",
      " |      Analyze text.\n",
      " |      \n",
      " |      Analyzes text, HTML, or a public webpage for the following features:\n",
      " |      - Categories\n",
      " |      - Concepts\n",
      " |      - Emotion\n",
      " |      - Entities\n",
      " |      - Keywords\n",
      " |      - Metadata\n",
      " |      - Relations\n",
      " |      - Semantic roles\n",
      " |      - Sentiment\n",
      " |      - Syntax (Experimental).\n",
      " |      If a language for the input text is not specified with the `language` parameter,\n",
      " |      the service [automatically detects the\n",
      " |      language](https://cloud.ibm.com/docs/services/natural-language-understanding?topic=natural-language-understanding-detectable-languages).\n",
      " |      \n",
      " |      :param Features features: Specific features to analyze the document for.\n",
      " |      :param str text: (optional) The plain text to analyze. One of the `text`,\n",
      " |             `html`, or `url` parameters is required.\n",
      " |      :param str html: (optional) The HTML file to analyze. One of the `text`,\n",
      " |             `html`, or `url` parameters is required.\n",
      " |      :param str url: (optional) The webpage to analyze. One of the `text`,\n",
      " |             `html`, or `url` parameters is required.\n",
      " |      :param bool clean: (optional) Set this to `false` to disable webpage\n",
      " |             cleaning. To learn more about webpage cleaning, see the [Analyzing\n",
      " |             webpages](https://cloud.ibm.com/docs/services/natural-language-understanding?topic=natural-language-understanding-analyzing-webpages)\n",
      " |             documentation.\n",
      " |      :param str xpath: (optional) An [XPath\n",
      " |             query](https://cloud.ibm.com/docs/services/natural-language-understanding?topic=natural-language-understanding-analyzing-webpages#xpath)\n",
      " |             to perform on `html` or `url` input. Results of the query will be appended\n",
      " |             to the cleaned webpage text before it is analyzed. To analyze only the\n",
      " |             results of the XPath query, set the `clean` parameter to `false`.\n",
      " |      :param bool fallback_to_raw: (optional) Whether to use raw HTML content if\n",
      " |             text cleaning fails.\n",
      " |      :param bool return_analyzed_text: (optional) Whether or not to return the\n",
      " |             analyzed text.\n",
      " |      :param str language: (optional) ISO 639-1 code that specifies the language\n",
      " |             of your text. This overrides automatic language detection. Language support\n",
      " |             differs depending on the features you include in your analysis. See\n",
      " |             [Language\n",
      " |             support](https://cloud.ibm.com/docs/services/natural-language-understanding?topic=natural-language-understanding-language-support)\n",
      " |             for more information.\n",
      " |      :param int limit_text_characters: (optional) Sets the maximum number of\n",
      " |             characters that are processed by the service.\n",
      " |      :param dict headers: A `dict` containing the request headers\n",
      " |      :return: A `DetailedResponse` containing the result, headers and HTTP status code.\n",
      " |      :rtype: DetailedResponse\n",
      " |  \n",
      " |  delete_model(self, model_id: str, **kwargs) -> 'DetailedResponse'\n",
      " |      Delete model.\n",
      " |      \n",
      " |      Deletes a custom model.\n",
      " |      \n",
      " |      :param str model_id: Model ID of the model to delete.\n",
      " |      :param dict headers: A `dict` containing the request headers\n",
      " |      :return: A `DetailedResponse` containing the result, headers and HTTP status code.\n",
      " |      :rtype: DetailedResponse\n",
      " |  \n",
      " |  list_models(self, **kwargs) -> 'DetailedResponse'\n",
      " |      List models.\n",
      " |      \n",
      " |      Lists Watson Knowledge Studio [custom entities and relations\n",
      " |      models](https://cloud.ibm.com/docs/services/natural-language-understanding?topic=natural-language-understanding-customizing)\n",
      " |      that are deployed to your Natural Language Understanding service.\n",
      " |      \n",
      " |      :param dict headers: A `dict` containing the request headers\n",
      " |      :return: A `DetailedResponse` containing the result, headers and HTTP status code.\n",
      " |      :rtype: DetailedResponse\n",
      " |  \n",
      " |  ----------------------------------------------------------------------\n",
      " |  Data and other attributes defined here:\n",
      " |  \n",
      " |  DEFAULT_SERVICE_NAME = 'natural-language-understanding'\n",
      " |  \n",
      " |  DEFAULT_SERVICE_URL = 'https://gateway.watsonplatform.net/natural-lang...\n",
      " |  \n",
      " |  ----------------------------------------------------------------------\n",
      " |  Methods inherited from ibm_cloud_sdk_core.base_service.BaseService:\n",
      " |  \n",
      " |  configure_service(self, service_name: str)\n",
      " |      Look for external configuration of a service. Set service properties.\n",
      " |      \n",
      " |      Try to get config from external sources, with the following priority:\n",
      " |      1. Credentials file(ibm-credentials.env)\n",
      " |      2. Environment variables\n",
      " |      3. VCAP Services(Cloud Foundry)\n",
      " |      \n",
      " |      Args:\n",
      " |          service_name: The service name\n",
      " |      \n",
      " |      Raises:\n",
      " |          ValueError: If service_name is not a string.\n",
      " |  \n",
      " |  get_authenticator(self) -> ibm_cloud_sdk_core.authenticators.authenticator.Authenticator\n",
      " |      Get the authenticator currently used by the service.\n",
      " |      \n",
      " |      Returns:\n",
      " |          The authenticator currently used by the service.\n",
      " |  \n",
      " |  prepare_request(self, method: str, url: str, headers: Union[dict, NoneType] = None, params: Union[dict, NoneType] = None, data: Union[str, dict, NoneType] = None, files: Union[Dict[str, Tuple[str]], List[Tuple[str, Tuple[str, ...]]], NoneType] = None, **kwargs) -> dict\n",
      " |      Build a dict that represents an HTTP service request.\n",
      " |      \n",
      " |      Clean up headers, add default http configuration, convert data\n",
      " |      into json, process files, and merge all into a single request dict.\n",
      " |      \n",
      " |      Args:\n",
      " |          method: The HTTP method of the request ex. GET, POST, etc.\n",
      " |          url: The origin + pathname according to WHATWG spec.\n",
      " |      \n",
      " |      Keyword Arguments:\n",
      " |          headers: Headers of the request.\n",
      " |          params: Querystring data to be appended to the url.\n",
      " |          data: The request body. Converted to json if a dict.\n",
      " |          files: 'files' can be a dictionary (i.e { '<part-name>': (<tuple>)}),\n",
      " |              or a list of tuples [ (<part-name>, (<tuple>))... ]\n",
      " |      \n",
      " |      Returns:\n",
      " |          Prepared request dictionary.\n",
      " |  \n",
      " |  send(self, request: requests.models.Request, **kwargs) -> ibm_cloud_sdk_core.detailed_response.DetailedResponse\n",
      " |      Send a request and wrap the response in a DetailedResponse or APIException.\n",
      " |      \n",
      " |      Args:\n",
      " |          request: The request to send to the service endpoint.\n",
      " |      \n",
      " |      Raises:\n",
      " |          ApiException: The exception from the API.\n",
      " |      \n",
      " |      Returns:\n",
      " |          The response from the request.\n",
      " |  \n",
      " |  set_default_headers(self, headers: Dict[str, str])\n",
      " |      Set http headers to be sent in every request.\n",
      " |      \n",
      " |      Arguments:\n",
      " |          headers: A dictionary of headers\n",
      " |  \n",
      " |  set_disable_ssl_verification(self, status: bool = False)\n",
      " |      Set the flag that indicates whether verification of\n",
      " |      the server's SSL certificate should be disabled or not.\n",
      " |      \n",
      " |      Keyword Arguments:\n",
      " |          status: set to true to disable ssl verification (default: {False})\n",
      " |  \n",
      " |  set_http_config(self, http_config: dict)\n",
      " |      Sets the http config dictionary.\n",
      " |      \n",
      " |      The dictionary can contain values that control the timeout, proxies, and etc of HTTP requests.\n",
      " |      \n",
      " |      Arguments:\n",
      " |          http_config: Configuration values to customize HTTP behaviors.\n",
      " |      \n",
      " |      Raises:\n",
      " |          TypeError: http_config is not a dict.\n",
      " |  \n",
      " |  set_service_url(self, service_url: str)\n",
      " |      Set the url the service will make HTTP requests too.\n",
      " |      \n",
      " |      Arguments:\n",
      " |          service_url: The WHATWG URL standard origin ex. https://example.service.com\n",
      " |      \n",
      " |      Raises:\n",
      " |          ValueError: Improperly formatted service_url\n",
      " |  \n",
      " |  ----------------------------------------------------------------------\n",
      " |  Static methods inherited from ibm_cloud_sdk_core.base_service.BaseService:\n",
      " |  \n",
      " |  encode_path_vars(*args: str) -> List[str]\n",
      " |      Encode path variables to be substituted into a URL path.\n",
      " |      \n",
      " |      Arguments:\n",
      " |          args: A list of strings to be URL path encoded\n",
      " |      \n",
      " |      Returns:\n",
      " |          A list of encoded strings that are safe to substitute into a URL path.\n",
      " |  \n",
      " |  ----------------------------------------------------------------------\n",
      " |  Data descriptors inherited from ibm_cloud_sdk_core.base_service.BaseService:\n",
      " |  \n",
      " |  __dict__\n",
      " |      dictionary for instance variables (if defined)\n",
      " |  \n",
      " |  __weakref__\n",
      " |      list of weak references to the object (if defined)\n",
      " |  \n",
      " |  ----------------------------------------------------------------------\n",
      " |  Data and other attributes inherited from ibm_cloud_sdk_core.base_service.BaseService:\n",
      " |  \n",
      " |  ERROR_MSG_DISABLE_SSL = 'The connection failed because the SSL certifi...\n",
      " |  \n",
      " |  SDK_NAME = 'ibm-python-sdk-core'\n",
      "\n"
     ]
    }
   ],
   "source": [
    "help(NaturalLanguageUnderstandingV1)"
   ]
  },
  {
   "cell_type": "code",
   "execution_count": 8,
   "metadata": {},
   "outputs": [],
   "source": [
    "\n",
    "from ibm_cloud_sdk_core.authenticators import IAMAuthenticator\n",
    "\n",
    "authenticator = IAMAuthenticator('ugur_Hyzzj-A0gYSWWUcb8yRIr9JCzKfmrKKtEo9dFD1')\n",
    "natural_language_understanding = NaturalLanguageUnderstandingV1(\n",
    "version='2019-12-31',\n",
    "authenticator=authenticator)"
   ]
  },
  {
   "cell_type": "markdown",
   "metadata": {},
   "source": [
    "### Probando a Watson\n",
    "\n",
    "Exploremos el tipo de objeto que nos devuelve Watson y como funciona para distintas frases"
   ]
  },
  {
   "cell_type": "code",
   "execution_count": 9,
   "metadata": {},
   "outputs": [
    {
     "data": {
      "text/plain": [
       "{'usage': {'text_units': 1, 'text_characters': 61, 'features': 2},\n",
       " 'sentiment': {'document': {'score': -0.781525, 'label': 'negative'}},\n",
       " 'language': 'en',\n",
       " 'emotion': {'document': {'emotion': {'sadness': 0.155847,\n",
       "    'joy': 0.14858,\n",
       "    'fear': 0.318921,\n",
       "    'disgust': 0.126755,\n",
       "    'anger': 0.494942}}}}"
      ]
     },
     "execution_count": 9,
     "metadata": {},
     "output_type": "execute_result"
    }
   ],
   "source": [
    "# Texto objetivo\n",
    "text = 'This is a very silly text, it drives me crazy when I read it.'\n",
    "\n",
    "# Importamos el modelo que vamos a usar y le avisamos que features queremo que devuelva\n",
    "# y en que lenguaje está el texto (esto es mejor que dejarlo adivinar)\n",
    "response = natural_language_understanding.analyze(text=text,features=Features(emotion=EmotionOptions(), sentiment=SentimentOptions()),language='en')\n",
    "resultado = response.result\n",
    "resultado"
   ]
  },
  {
   "cell_type": "markdown",
   "metadata": {},
   "source": [
    "Para tomar sólo alguno de los resultados, podemos acceder al diccionario"
   ]
  },
  {
   "cell_type": "code",
   "execution_count": 10,
   "metadata": {},
   "outputs": [
    {
     "name": "stdout",
     "output_type": "stream",
     "text": [
      "-0.781525\n"
     ]
    }
   ],
   "source": [
    "print(resultado['sentiment']['document']['score'])"
   ]
  },
  {
   "cell_type": "markdown",
   "metadata": {},
   "source": [
    "Probamos ahora un texto en español"
   ]
  },
  {
   "cell_type": "code",
   "execution_count": 11,
   "metadata": {},
   "outputs": [
    {
     "data": {
      "text/plain": [
       "{'usage': {'text_units': 1, 'text_characters': 125, 'features': 1},\n",
       " 'sentiment': {'document': {'score': 0, 'label': 'neutral'}},\n",
       " 'language': 'es',\n",
       " 'warnings': ['emotion: unsupported text language: es']}"
      ]
     },
     "execution_count": 11,
     "metadata": {},
     "output_type": "execute_result"
    }
   ],
   "source": [
    "# Texto objetivo\n",
    "text = 'Este texto no tiene ningún objetivo, vive en la soledad que genera saber que su existencia no tiene un proposito determinado.'\n",
    "\n",
    "# Importamos el modelo que vamos a usar y le avisamos que features queremo que devuelva\n",
    "# y en que lenguaje está el texto (esto es mejor que dejarlo adivinar)\n",
    "response = natural_language_understanding.analyze(text=text,features=Features(emotion=EmotionOptions(), sentiment=SentimentOptions()),language='es')\n",
    "resultado = response.result\n",
    "resultado\n"
   ]
  },
  {
   "cell_type": "markdown",
   "metadata": {},
   "source": [
    "### Dataset de películas\n",
    "Este es el dataset propuesto por la plataforma de Acámica, al estár en ingles permite explotar todas las funcionalidades de Watson. Carguen distintos reviews y comprueben si la devolución del analisis de emosiones de Watson coinciden con lo que perciben del texto."
   ]
  },
  {
   "cell_type": "code",
   "execution_count": null,
   "metadata": {},
   "outputs": [],
   "source": [
    "import sklearn\n",
    "from sklearn.datasets import load_files\n",
    "moviedir = r'./dataset/movie_reviews' \n",
    "movie_reviews = load_files(moviedir, shuffle=True)"
   ]
  },
  {
   "cell_type": "code",
   "execution_count": null,
   "metadata": {},
   "outputs": [],
   "source": [
    "print(analisis_watson(movie_reviews.data[4]))\n",
    "print(movie_reviews.target[4])"
   ]
  },
  {
   "cell_type": "markdown",
   "metadata": {},
   "source": [
    "### Dataset de Noticias Infobae de hoy\n",
    "\n",
    "Este dataset se lo preparamos para que puedan explorar cómo funciona Watson en textos en español. Algunas de las funcionalidades se pierden (no reporta las emociones), pero sí clasifica como positivo o negativo los cuerpos de texto. Noten que otra estrategia podría ser traducir el texto y luego aplicarle el algoritmo de Watson en inglés. Esta otra estrategia no siempre funciona bien, depende mucho de la calidad de la traducción."
   ]
  },
  {
   "cell_type": "code",
   "execution_count": null,
   "metadata": {},
   "outputs": [],
   "source": [
    "nombre_archivo = '2019_08_21.feather'"
   ]
  },
  {
   "cell_type": "markdown",
   "metadata": {},
   "source": [
    "Exploremos el dataset"
   ]
  },
  {
   "cell_type": "code",
   "execution_count": null,
   "metadata": {},
   "outputs": [],
   "source": [
    "# Quiero ver el sentimiento de los cuerpos de la noticia.\n",
    "noticias_hoy = pd.read_feather(nombre_archivo)\n",
    "noticias_hoy"
   ]
  },
  {
   "cell_type": "code",
   "execution_count": null,
   "metadata": {},
   "outputs": [],
   "source": [
    "cuerpos = noticias_hoy.Texto\n",
    "titulos = noticias_hoy.Titulo\n",
    "print(len(cuerpos))"
   ]
  },
  {
   "cell_type": "markdown",
   "metadata": {},
   "source": [
    "Vamos a calcular el sentimiento para cada una de las noticias y agregarlo al dataframe "
   ]
  },
  {
   "cell_type": "code",
   "execution_count": null,
   "metadata": {},
   "outputs": [],
   "source": [
    "score_cuerpos = []\n",
    "\n",
    "for este_texto in cuerpos:\n",
    "    \n",
    "    # Quitamos del texto este símbolo que indica final de parrafo\n",
    "    este_texto = este_texto.replace('\\n','')\n",
    "    \n",
    "    # Analisis sentimiento del cuerpo\n",
    "    # Le pedimos solo el sentimiento, y le avisamos que está en español\n",
    "    response = natural_language_understanding.analyze(text=este_texto,features=Features(sentiment=SentimentOptions()),language='es')\n",
    "    resultado = response.result\n",
    "    score_cuerpos.append(resultado['sentiment']['document']['score'])"
   ]
  },
  {
   "cell_type": "code",
   "execution_count": null,
   "metadata": {},
   "outputs": [],
   "source": [
    "print(score_cuerpos)"
   ]
  },
  {
   "cell_type": "code",
   "execution_count": null,
   "metadata": {},
   "outputs": [],
   "source": [
    "# Finalmente agregamos la columna al dataset\n",
    "noticias_hoy['Sentimiento'] = score_cuerpos\n",
    "noticias_hoy"
   ]
  },
  {
   "cell_type": "markdown",
   "metadata": {},
   "source": [
    "Exploremos un poco los resultados. Veamos el promedio de sentimiento de todas las noticias (esto nos va a dar una idea del ánimo general del día). Luego busquemos la noticia más positiva y la más negativa, para ver si coincidimos con el criterio."
   ]
  },
  {
   "cell_type": "code",
   "execution_count": null,
   "metadata": {},
   "outputs": [],
   "source": [
    "todos_los_valores = noticias_hoy['Sentimiento']\n",
    "animo_general = np.mean(todos_los_valores)\n",
    "print(animo_general)"
   ]
  },
  {
   "cell_type": "code",
   "execution_count": null,
   "metadata": {},
   "outputs": [],
   "source": [
    "noticia_positiva = noticias_hoy.loc[noticias_hoy['Sentimiento'].idxmax()]\n",
    "print(noticia_positiva.Titulo)\n",
    "print(noticia_positiva.Sentimiento)\n",
    "#print(noticia_positiva.Subtitulo)\n",
    "print(noticia_positiva.Texto)"
   ]
  },
  {
   "cell_type": "code",
   "execution_count": null,
   "metadata": {},
   "outputs": [],
   "source": [
    "noticia_negativa = noticias_hoy.loc[noticias_hoy['Sentimiento'].idxmin()]\n",
    "print(noticia_negativa.Titulo)\n",
    "print(noticia_negativa.Sentimiento)\n",
    "#print(noticia_negativa.Subtitulo)\n",
    "#print(noticia_negativa.Texto)"
   ]
  },
  {
   "cell_type": "code",
   "execution_count": null,
   "metadata": {},
   "outputs": [],
   "source": []
  }
 ],
 "metadata": {
  "kernelspec": {
   "display_name": "Python 3",
   "language": "python",
   "name": "python3"
  },
  "language_info": {
   "codemirror_mode": {
    "name": "ipython",
    "version": 3
   },
   "file_extension": ".py",
   "mimetype": "text/x-python",
   "name": "python",
   "nbconvert_exporter": "python",
   "pygments_lexer": "ipython3",
   "version": "3.7.2"
  }
 },
 "nbformat": 4,
 "nbformat_minor": 4
}
