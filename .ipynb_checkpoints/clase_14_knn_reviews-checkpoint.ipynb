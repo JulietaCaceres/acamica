{
 "cells": [
  {
   "cell_type": "markdown",
   "metadata": {},
   "source": [
    "# Ejercicio sobre App Reviews"
   ]
  },
  {
   "cell_type": "markdown",
   "metadata": {},
   "source": [
    "Para nuestro ejercicio tomaremos 257 registros con Opiniones de usuarios sobre una app (Reviews)."
   ]
  },
  {
   "cell_type": "markdown",
   "metadata": {},
   "source": [
    "## Datos"
   ]
  },
  {
   "cell_type": "markdown",
   "metadata": {},
   "source": [
    "Archivo de datos: 'reviews_sentiment.csv'"
   ]
  },
  {
   "cell_type": "markdown",
   "metadata": {},
   "source": [
    "## Objetivo"
   ]
  },
  {
   "cell_type": "markdown",
   "metadata": {},
   "source": [
    "Crear un algoritmo kNN que estima la cantidad de estrellas que dieron los usuarios a la app a partir de la cantidad de palabras usadas y la valoración del comentario."
   ]
  },
  {
   "cell_type": "markdown",
   "metadata": {},
   "source": [
    "## Librerias y Datos"
   ]
  },
  {
   "cell_type": "markdown",
   "metadata": {},
   "source": [
    "1) Primero hacemos imports de librerías que utilizaremos para manejo de datos, gráficas y nuestro algoritmo."
   ]
  },
  {
   "cell_type": "code",
   "execution_count": 1,
   "metadata": {},
   "outputs": [],
   "source": [
    "import pandas as pd\n",
    "import numpy as np\n",
    "import matplotlib.pyplot as plt\n",
    "from matplotlib.colors import ListedColormap\n",
    "import matplotlib.patches as mpatches\n",
    "import seaborn as sb\n",
    " \n",
    "%matplotlib inline\n",
    "plt.rcParams['figure.figsize'] = (16, 9)\n",
    "plt.style.use('ggplot')\n",
    " \n",
    "from sklearn.model_selection import train_test_split\n",
    "from sklearn.preprocessing import MinMaxScaler\n",
    "from sklearn.neighbors import KNeighborsClassifier\n",
    "from sklearn.metrics import classification_report\n",
    "from sklearn.metrics import confusion_matrix"
   ]
  },
  {
   "cell_type": "markdown",
   "metadata": {},
   "source": [
    "2) Leer los datos"
   ]
  },
  {
   "cell_type": "markdown",
   "metadata": {},
   "source": [
    "Cargamos el archivo entrada csv con pandas, usando separador de punto y coma, pues en las reviews hay textos que usan coma. Con head(10) vemos los 10 primeros registros."
   ]
  },
  {
   "cell_type": "code",
   "execution_count": 2,
   "metadata": {},
   "outputs": [
    {
     "data": {
      "text/html": [
       "<div>\n",
       "<style scoped>\n",
       "    .dataframe tbody tr th:only-of-type {\n",
       "        vertical-align: middle;\n",
       "    }\n",
       "\n",
       "    .dataframe tbody tr th {\n",
       "        vertical-align: top;\n",
       "    }\n",
       "\n",
       "    .dataframe thead th {\n",
       "        text-align: right;\n",
       "    }\n",
       "</style>\n",
       "<table border=\"1\" class=\"dataframe\">\n",
       "  <thead>\n",
       "    <tr style=\"text-align: right;\">\n",
       "      <th></th>\n",
       "      <th>Review Title</th>\n",
       "      <th>Review Text</th>\n",
       "      <th>wordcount</th>\n",
       "      <th>titleSentiment</th>\n",
       "      <th>textSentiment</th>\n",
       "      <th>Star Rating</th>\n",
       "      <th>sentimentValue</th>\n",
       "    </tr>\n",
       "  </thead>\n",
       "  <tbody>\n",
       "    <tr>\n",
       "      <th>0</th>\n",
       "      <td>Sin conexión</td>\n",
       "      <td>Hola desde hace algo más de un mes me pone sin...</td>\n",
       "      <td>23</td>\n",
       "      <td>negative</td>\n",
       "      <td>negative</td>\n",
       "      <td>1</td>\n",
       "      <td>-0.486389</td>\n",
       "    </tr>\n",
       "    <tr>\n",
       "      <th>1</th>\n",
       "      <td>faltan cosas</td>\n",
       "      <td>Han mejorado la apariencia pero no</td>\n",
       "      <td>20</td>\n",
       "      <td>negative</td>\n",
       "      <td>negative</td>\n",
       "      <td>1</td>\n",
       "      <td>-0.586187</td>\n",
       "    </tr>\n",
       "    <tr>\n",
       "      <th>2</th>\n",
       "      <td>Es muy buena lo recomiendo</td>\n",
       "      <td>Andres e puto amoooo</td>\n",
       "      <td>4</td>\n",
       "      <td>NaN</td>\n",
       "      <td>negative</td>\n",
       "      <td>1</td>\n",
       "      <td>-0.602240</td>\n",
       "    </tr>\n",
       "    <tr>\n",
       "      <th>3</th>\n",
       "      <td>Version antigua</td>\n",
       "      <td>Me gustana mas la version anterior esta es mas...</td>\n",
       "      <td>17</td>\n",
       "      <td>NaN</td>\n",
       "      <td>negative</td>\n",
       "      <td>1</td>\n",
       "      <td>-0.616271</td>\n",
       "    </tr>\n",
       "    <tr>\n",
       "      <th>4</th>\n",
       "      <td>Esta bien</td>\n",
       "      <td>Sin ser la biblia.... Esta bien</td>\n",
       "      <td>6</td>\n",
       "      <td>negative</td>\n",
       "      <td>negative</td>\n",
       "      <td>1</td>\n",
       "      <td>-0.651784</td>\n",
       "    </tr>\n",
       "    <tr>\n",
       "      <th>5</th>\n",
       "      <td>Buena</td>\n",
       "      <td>Nada del otro mundo pero han mejorado mucho</td>\n",
       "      <td>8</td>\n",
       "      <td>positive</td>\n",
       "      <td>negative</td>\n",
       "      <td>1</td>\n",
       "      <td>-0.720443</td>\n",
       "    </tr>\n",
       "    <tr>\n",
       "      <th>6</th>\n",
       "      <td>De gran ayuda</td>\n",
       "      <td>Lo malo q necesita de ",
       ",pero la app es muy buena</td>\n",
       "      <td>23</td>\n",
       "      <td>positive</td>\n",
       "      <td>negative</td>\n",
       "      <td>1</td>\n",
       "      <td>-0.726825</td>\n",
       "    </tr>\n",
       "    <tr>\n",
       "      <th>7</th>\n",
       "      <td>Muy buena</td>\n",
       "      <td>Estaba más acostumbrado al otro diseño, pero e...</td>\n",
       "      <td>16</td>\n",
       "      <td>positive</td>\n",
       "      <td>negative</td>\n",
       "      <td>1</td>\n",
       "      <td>-0.736769</td>\n",
       "    </tr>\n",
       "    <tr>\n",
       "      <th>8</th>\n",
       "      <td>Ta to guapa.</td>\n",
       "      <td>Va de escándalo</td>\n",
       "      <td>21</td>\n",
       "      <td>positive</td>\n",
       "      <td>negative</td>\n",
       "      <td>1</td>\n",
       "      <td>-0.765284</td>\n",
       "    </tr>\n",
       "    <tr>\n",
       "      <th>9</th>\n",
       "      <td>Se han corregido</td>\n",
       "      <td>Han corregido muchos fallos pero el diseño es ...</td>\n",
       "      <td>13</td>\n",
       "      <td>negative</td>\n",
       "      <td>negative</td>\n",
       "      <td>1</td>\n",
       "      <td>-0.797961</td>\n",
       "    </tr>\n",
       "  </tbody>\n",
       "</table>\n",
       "</div>"
      ],
      "text/plain": [
       "                 Review Title  \\\n",
       "0                Sin conexión   \n",
       "1                faltan cosas   \n",
       "2  Es muy buena lo recomiendo   \n",
       "3             Version antigua   \n",
       "4                   Esta bien   \n",
       "5                       Buena   \n",
       "6               De gran ayuda   \n",
       "7                   Muy buena   \n",
       "8                Ta to guapa.   \n",
       "9            Se han corregido   \n",
       "\n",
       "                                         Review Text  wordcount  \\\n",
       "0  Hola desde hace algo más de un mes me pone sin...         23   \n",
       "1                 Han mejorado la apariencia pero no         20   \n",
       "2                               Andres e puto amoooo          4   \n",
       "3  Me gustana mas la version anterior esta es mas...         17   \n",
       "4                    Sin ser la biblia.... Esta bien          6   \n",
       "5        Nada del otro mundo pero han mejorado mucho          8   \n",
       "6   Lo malo q necesita de \n",
       ",pero la app es muy buena         23   \n",
       "7  Estaba más acostumbrado al otro diseño, pero e...         16   \n",
       "8                                    Va de escándalo         21   \n",
       "9  Han corregido muchos fallos pero el diseño es ...         13   \n",
       "\n",
       "  titleSentiment textSentiment  Star Rating  sentimentValue  \n",
       "0       negative      negative            1       -0.486389  \n",
       "1       negative      negative            1       -0.586187  \n",
       "2            NaN      negative            1       -0.602240  \n",
       "3            NaN      negative            1       -0.616271  \n",
       "4       negative      negative            1       -0.651784  \n",
       "5       positive      negative            1       -0.720443  \n",
       "6       positive      negative            1       -0.726825  \n",
       "7       positive      negative            1       -0.736769  \n",
       "8       positive      negative            1       -0.765284  \n",
       "9       negative      negative            1       -0.797961  "
      ]
     },
     "execution_count": 2,
     "metadata": {},
     "output_type": "execute_result"
    }
   ],
   "source": [
    "dataframe = pd.read_csv(r\"reviews_sentiment.csv\",sep=';',encoding = 'latin') \n",
    "dataframe.head(10)"
   ]
  },
  {
   "cell_type": "markdown",
   "metadata": {},
   "source": [
    "Aprovechamos a ver un resumen estadístico de los datos:"
   ]
  },
  {
   "cell_type": "code",
   "execution_count": 3,
   "metadata": {},
   "outputs": [
    {
     "data": {
      "text/html": [
       "<div>\n",
       "<style scoped>\n",
       "    .dataframe tbody tr th:only-of-type {\n",
       "        vertical-align: middle;\n",
       "    }\n",
       "\n",
       "    .dataframe tbody tr th {\n",
       "        vertical-align: top;\n",
       "    }\n",
       "\n",
       "    .dataframe thead th {\n",
       "        text-align: right;\n",
       "    }\n",
       "</style>\n",
       "<table border=\"1\" class=\"dataframe\">\n",
       "  <thead>\n",
       "    <tr style=\"text-align: right;\">\n",
       "      <th></th>\n",
       "      <th>wordcount</th>\n",
       "      <th>Star Rating</th>\n",
       "      <th>sentimentValue</th>\n",
       "    </tr>\n",
       "  </thead>\n",
       "  <tbody>\n",
       "    <tr>\n",
       "      <th>count</th>\n",
       "      <td>257.000000</td>\n",
       "      <td>257.000000</td>\n",
       "      <td>257.000000</td>\n",
       "    </tr>\n",
       "    <tr>\n",
       "      <th>mean</th>\n",
       "      <td>11.501946</td>\n",
       "      <td>3.420233</td>\n",
       "      <td>0.383849</td>\n",
       "    </tr>\n",
       "    <tr>\n",
       "      <th>std</th>\n",
       "      <td>13.159812</td>\n",
       "      <td>1.409531</td>\n",
       "      <td>0.897987</td>\n",
       "    </tr>\n",
       "    <tr>\n",
       "      <th>min</th>\n",
       "      <td>1.000000</td>\n",
       "      <td>1.000000</td>\n",
       "      <td>-2.276469</td>\n",
       "    </tr>\n",
       "    <tr>\n",
       "      <th>25%</th>\n",
       "      <td>3.000000</td>\n",
       "      <td>3.000000</td>\n",
       "      <td>-0.108144</td>\n",
       "    </tr>\n",
       "    <tr>\n",
       "      <th>50%</th>\n",
       "      <td>7.000000</td>\n",
       "      <td>3.000000</td>\n",
       "      <td>0.264091</td>\n",
       "    </tr>\n",
       "    <tr>\n",
       "      <th>75%</th>\n",
       "      <td>16.000000</td>\n",
       "      <td>5.000000</td>\n",
       "      <td>0.808384</td>\n",
       "    </tr>\n",
       "    <tr>\n",
       "      <th>max</th>\n",
       "      <td>103.000000</td>\n",
       "      <td>5.000000</td>\n",
       "      <td>3.264579</td>\n",
       "    </tr>\n",
       "  </tbody>\n",
       "</table>\n",
       "</div>"
      ],
      "text/plain": [
       "        wordcount  Star Rating  sentimentValue\n",
       "count  257.000000   257.000000      257.000000\n",
       "mean    11.501946     3.420233        0.383849\n",
       "std     13.159812     1.409531        0.897987\n",
       "min      1.000000     1.000000       -2.276469\n",
       "25%      3.000000     3.000000       -0.108144\n",
       "50%      7.000000     3.000000        0.264091\n",
       "75%     16.000000     5.000000        0.808384\n",
       "max    103.000000     5.000000        3.264579"
      ]
     },
     "execution_count": 3,
     "metadata": {},
     "output_type": "execute_result"
    }
   ],
   "source": [
    "dataframe.describe()"
   ]
  },
  {
   "cell_type": "markdown",
   "metadata": {},
   "source": [
    "Son 257 registros. Las estrellas lógicamente vemos que van del 1 al 5. La cantidad de palabras van de 1 sóla hasta 103. y las valoraciones de sentimiento están entre -2.27 y 3.26 con una media de 0,38 y a partir del desvío estándar podemos ver que la mayoría están entre 0,38-0,89 y 0,38+0,89."
   ]
  },
  {
   "cell_type": "markdown",
   "metadata": {},
   "source": [
    "## Visualización"
   ]
  },
  {
   "cell_type": "markdown",
   "metadata": {},
   "source": [
    "Veamos unas gráficas simples y qué información nos aportan:"
   ]
  },
  {
   "cell_type": "code",
   "execution_count": 4,
   "metadata": {},
   "outputs": [
    {
     "data": {
      "image/png": "[encoded data removed]",
      "text/plain": [
       "<Figure size 432x288 with 4 Axes>"
      ]
     },
     "metadata": {
      "needs_background": "light"
     },
     "output_type": "display_data"
    }
   ],
   "source": [
    "dataframe.hist()\n",
    "plt.show()"
   ]
  },
  {
   "cell_type": "markdown",
   "metadata": {},
   "source": [
    "Vemos que la distribución de «estrellas» no está balanceada. La gráfica de Valores de Sentimientos parece bastante una campana movida levemente hacia la derecha del cero y la cantidad de palabras se centra sobre todo de 0 a 10."
   ]
  },
  {
   "cell_type": "markdown",
   "metadata": {},
   "source": [
    "Veamos realmente cuantas Valoraciones de Estrellas tenemos:"
   ]
  },
  {
   "cell_type": "code",
   "execution_count": 5,
   "metadata": {},
   "outputs": [
    {
     "name": "stdout",
     "output_type": "stream",
     "text": [
      "Star Rating\n",
      "1    37\n",
      "2    24\n",
      "3    78\n",
      "4    30\n",
      "5    88\n",
      "dtype: int64\n"
     ]
    }
   ],
   "source": [
    "print(dataframe.groupby('Star Rating').size())"
   ]
  },
  {
   "cell_type": "markdown",
   "metadata": {},
   "source": [
    "Con eso confirmamos que hay sobre todo de 3 y 5 estrellas."
   ]
  },
  {
   "cell_type": "code",
   "execution_count": 6,
   "metadata": {},
   "outputs": [
    {
     "name": "stderr",
     "output_type": "stream",
     "text": [
      "/anaconda3/lib/python3.7/site-packages/seaborn/categorical.py:3666: UserWarning: The `factorplot` function has been renamed to `catplot`. The original name will be removed in a future release. Please update your code. Note that the default `kind` in `factorplot` (`'point'`) has changed `'strip'` in `catplot`.\n",
      "  warnings.warn(msg)\n"
     ]
    },
    {
     "data": {
      "text/plain": [
       "<seaborn.axisgrid.FacetGrid at 0x1a23cf6fd0>"
      ]
     },
     "execution_count": 6,
     "metadata": {},
     "output_type": "execute_result"
    },
    {
     "data": {
      "image/png": "[encoded data removed]",
      "text/plain": [
       "<Figure size 1080x360 with 1 Axes>"
      ]
     },
     "metadata": {
      "needs_background": "light"
     },
     "output_type": "display_data"
    }
   ],
   "source": [
    "sb.factorplot('Star Rating',data=dataframe,kind=\"count\", aspect=3)"
   ]
  },
  {
   "cell_type": "code",
   "execution_count": 7,
   "metadata": {},
   "outputs": [
    {
     "name": "stderr",
     "output_type": "stream",
     "text": [
      "/anaconda3/lib/python3.7/site-packages/seaborn/categorical.py:3666: UserWarning: The `factorplot` function has been renamed to `catplot`. The original name will be removed in a future release. Please update your code. Note that the default `kind` in `factorplot` (`'point'`) has changed `'strip'` in `catplot`.\n",
      "  warnings.warn(msg)\n"
     ]
    },
    {
     "data": {
      "text/plain": [
       "<seaborn.axisgrid.FacetGrid at 0x1a23f7bac8>"
      ]
     },
     "execution_count": 7,
     "metadata": {},
     "output_type": "execute_result"
    },
    {
     "data": {
      "image/png": "[encoded data removed]",
      "text/plain": [
       "<Figure size 1080x360 with 1 Axes>"
      ]
     },
     "metadata": {
      "needs_background": "light"
     },
     "output_type": "display_data"
    }
   ],
   "source": [
    "sb.factorplot('wordcount',data=dataframe,kind=\"count\", aspect=3)"
   ]
  },
  {
   "cell_type": "markdown",
   "metadata": {},
   "source": [
    "## Modelo"
   ]
  },
  {
   "cell_type": "markdown",
   "metadata": {},
   "source": [
    "## Preparamos las entradas"
   ]
  },
  {
   "cell_type": "markdown",
   "metadata": {},
   "source": [
    "Creamos nuestro X e y de entrada y los sets de entrenamiento y test."
   ]
  },
  {
   "cell_type": "code",
   "execution_count": 8,
   "metadata": {},
   "outputs": [],
   "source": [
    "X = dataframe[['wordcount','sentimentValue']].values\n",
    "y = dataframe['Star Rating'].values\n",
    " \n",
    "X_train, X_test, y_train, y_test = train_test_split(X, y, random_state=0)"
   ]
  },
  {
   "cell_type": "code",
   "execution_count": 9,
   "metadata": {},
   "outputs": [
    {
     "data": {
      "text/plain": [
       "(192, 2)"
      ]
     },
     "execution_count": 9,
     "metadata": {},
     "output_type": "execute_result"
    }
   ],
   "source": [
    "X_train.shape"
   ]
  },
  {
   "cell_type": "code",
   "execution_count": 10,
   "metadata": {},
   "outputs": [
    {
     "data": {
      "text/plain": [
       "(65, 2)"
      ]
     },
     "execution_count": 10,
     "metadata": {},
     "output_type": "execute_result"
    }
   ],
   "source": [
    "X_test.shape"
   ]
  },
  {
   "cell_type": "markdown",
   "metadata": {},
   "source": [
    "Salvo que se le indique otra cosa, la función train_test_split añade al bloque de entrenamiento el 75% de los registros, y al bloque de pruebas el 25% restante. Podemos controlar estas cifras con los parámetros train_size y test_size. Estos parámetros pueden ser números enteros, indicando exactamente el número de registros a incluir, o un número real, en cuyo caso indican el porcentaje del total de registros a incluir."
   ]
  },
  {
   "cell_type": "code",
   "execution_count": 21,
   "metadata": {},
   "outputs": [],
   "source": [
    "scaler = MinMaxScaler()\n",
    "X_train = scaler.fit_transform(X_train)\n",
    "X_test = scaler.transform(X_test)"
   ]
  },
  {
   "cell_type": "markdown",
   "metadata": {},
   "source": [
    "### Usemos k-Nearest Neighbor con Scikit Learn"
   ]
  },
  {
   "cell_type": "markdown",
   "metadata": {},
   "source": [
    "Definimos el valor de k en 7 y creamos nuestro clasificador."
   ]
  },
  {
   "cell_type": "code",
   "execution_count": 22,
   "metadata": {},
   "outputs": [
    {
     "data": {
      "text/plain": [
       "KNeighborsClassifier(algorithm='auto', leaf_size=30, metric='minkowski',\n",
       "           metric_params=None, n_jobs=None, n_neighbors=7, p=2,\n",
       "           weights='uniform')"
      ]
     },
     "execution_count": 22,
     "metadata": {},
     "output_type": "execute_result"
    }
   ],
   "source": [
    "n_neighbors = 7\n",
    " \n",
    "knn = KNeighborsClassifier(n_neighbors)\n",
    "knn.fit(X_train, y_train)"
   ]
  },
  {
   "cell_type": "code",
   "execution_count": 23,
   "metadata": {},
   "outputs": [
    {
     "name": "stdout",
     "output_type": "stream",
     "text": [
      "Accuracy of K-NN classifier on training set: 0.90\n",
      "Accuracy of K-NN classifier on test set: 0.86\n"
     ]
    }
   ],
   "source": [
    "print('Accuracy of K-NN classifier on training set: {:.2f}'\n",
    "     .format(knn.score(X_train, y_train)))\n",
    "print('Accuracy of K-NN classifier on test set: {:.2f}'\n",
    "     .format(knn.score(X_test, y_test)))"
   ]
  },
  {
   "cell_type": "markdown",
   "metadata": {},
   "source": [
    "Vemos que la precisión que nos da es de 90% en el set de entrenamiento y del 86% para el de test."
   ]
  },
  {
   "cell_type": "markdown",
   "metadata": {},
   "source": [
    "* NOTA: como verán utilizamos la clase KNeighborsClassifier de SciKit Learn puesto que nuestras etiquetas son valores discretos (estrellas del 1 al 5). Pero deben saber que también existe la clase KneighborsRegressor para etiquetas con valores continuos."
   ]
  },
  {
   "cell_type": "markdown",
   "metadata": {},
   "source": [
    "## Precisión del modelo"
   ]
  },
  {
   "cell_type": "markdown",
   "metadata": {},
   "source": [
    "Confirmemos la precisión viendo la Confusión Matrix y el Reporte sobre el conjunto de test, que nos detalla los aciertos y fallos:"
   ]
  },
  {
   "cell_type": "code",
   "execution_count": 24,
   "metadata": {},
   "outputs": [
    {
     "name": "stdout",
     "output_type": "stream",
     "text": [
      "[[ 9  0  1  0  0]\n",
      " [ 0  1  0  0  0]\n",
      " [ 0  1 17  0  1]\n",
      " [ 0  0  2  8  0]\n",
      " [ 0  0  4  0 21]]\n"
     ]
    }
   ],
   "source": [
    "pred = knn.predict(X_test)\n",
    "print(confusion_matrix(y_test, pred))"
   ]
  },
  {
   "cell_type": "code",
   "execution_count": 16,
   "metadata": {},
   "outputs": [
    {
     "name": "stdout",
     "output_type": "stream",
     "text": [
      "              precision    recall  f1-score   support\n",
      "\n",
      "           1       1.00      0.90      0.95        10\n",
      "           2       0.50      1.00      0.67         1\n",
      "           3       0.71      0.89      0.79        19\n",
      "           4       1.00      0.80      0.89        10\n",
      "           5       0.95      0.84      0.89        25\n",
      "\n",
      "   micro avg       0.86      0.86      0.86        65\n",
      "   macro avg       0.83      0.89      0.84        65\n",
      "weighted avg       0.89      0.86      0.87        65\n",
      "\n"
     ]
    }
   ],
   "source": [
    "print(classification_report(y_test, pred))"
   ]
  },
  {
   "cell_type": "markdown",
   "metadata": {},
   "source": [
    "Cómo se ve la puntuación F1 es del 87%, bastante buena. \n",
    "* NOTA: recuerden que este es sólo un ejercicio para aprender y tenemos MUY pocos registros totales y en nuestro conjunto de test. Por ejemplo de 2 estrellas sólo tiene 1 valoración y esto es evidentemente insuficiente."
   ]
  },
  {
   "cell_type": "markdown",
   "metadata": {},
   "source": [
    "## Grafica con la clasificación"
   ]
  },
  {
   "cell_type": "code",
   "execution_count": 17,
   "metadata": {},
   "outputs": [
    {
     "data": {
      "image/png": "[encoded data removed]",
      "text/plain": [
       "<Figure size 432x288 with 1 Axes>"
      ]
     },
     "metadata": {
      "needs_background": "light"
     },
     "output_type": "display_data"
    }
   ],
   "source": [
    "h = .02  # step size in the mesh\n",
    " \n",
    "# Create color maps\n",
    "cmap_light = ListedColormap(['#FFAAAA', '#ffcc99', '#ffffb3','#b3ffff','#c2f0c2'])\n",
    "cmap_bold = ListedColormap(['#FF0000', '#ff9933','#FFFF00','#00ffff','#00FF00'])\n",
    " \n",
    "# we create an instance of Neighbours Classifier and fit the data.\n",
    "clf = KNeighborsClassifier(n_neighbors, weights='distance')\n",
    "clf.fit(X, y)\n",
    " \n",
    "# Plot the decision boundary. For that, we will assign a color to each\n",
    "# point in the mesh [x_min, x_max]x[y_min, y_max].\n",
    "x_min, x_max = X[:, 0].min() - 1, X[:, 0].max() + 1\n",
    "y_min, y_max = X[:, 1].min() - 1, X[:, 1].max() + 1\n",
    "xx, yy = np.meshgrid(np.arange(x_min, x_max, h),\n",
    "                         np.arange(y_min, y_max, h))\n",
    "Z = clf.predict(np.c_[xx.ravel(), yy.ravel()])\n",
    " \n",
    "# Put the result into a color plot\n",
    "Z = Z.reshape(xx.shape)\n",
    "plt.figure()\n",
    "plt.pcolormesh(xx, yy, Z, cmap=cmap_light)\n",
    " \n",
    "# Plot also the training points\n",
    "plt.scatter(X[:, 0], X[:, 1], c=y, cmap=cmap_bold,\n",
    "                edgecolor='k', s=20)\n",
    "plt.xlim(xx.min(), xx.max())\n",
    "plt.ylim(yy.min(), yy.max())\n",
    "    \n",
    "patch0 = mpatches.Patch(color='#FF0000', label='1')\n",
    "patch1 = mpatches.Patch(color='#ff9933', label='2')\n",
    "patch2 = mpatches.Patch(color='#FFFF00', label='3')\n",
    "patch3 = mpatches.Patch(color='#00ffff', label='4')\n",
    "patch4 = mpatches.Patch(color='#00FF00', label='5')\n",
    "plt.legend(handles=[patch0, patch1, patch2, patch3,patch4])\n",
    " \n",
    "    \n",
    "plt.title(\"5-Class classification (k = %i, weights = '%s')\"\n",
    "              % (n_neighbors, 'Distance'))\n",
    " \n",
    "plt.show()"
   ]
  },
  {
   "cell_type": "markdown",
   "metadata": {},
   "source": [
    "Vemos las 5 zonas en las que se relacionan cantidad de palabras con el valor de sentimiento de la Review que deja el usuario."
   ]
  },
  {
   "cell_type": "markdown",
   "metadata": {},
   "source": [
    "Es decir que «a ojo» una review de 20 palabras y Sentimiento 1, nos daría una valoración de 4 (zona celeste)."
   ]
  },
  {
   "cell_type": "markdown",
   "metadata": {},
   "source": [
    "Con estas zonas podemos intuir ciertas características de los usuarios que usan y valoran la app:"
   ]
  },
  {
   "cell_type": "markdown",
   "metadata": {},
   "source": [
    "* Los usuarios que ponen 1 estrella tienen sentimiento negativo y hasta 25 palabras.\n",
    "* Los usuarios que ponen 2 estrellas dan muchas explicaciones (hasta 100 palabras) y su sentimiento puede variar entre negativo y algo positivo.\n",
    "* Los usuarios que ponen 3 estrellas son bastante neutrales en sentimientos, puesto que están en torno al cero y hasta unas 25 palabras.\n",
    "* Los usuarios que dan 5 estrellas son bastante positivos (de 0,5 en adelante, aproximadamente) y ponen pocas palabras (hasta 10)."
   ]
  },
  {
   "cell_type": "markdown",
   "metadata": {},
   "source": [
    "## Elegir el mejor valor de k"
   ]
  },
  {
   "cell_type": "markdown",
   "metadata": {},
   "source": [
    "Antes vimos que asignamos el valor n_neighbors=7 como valor de «k» y obtuvimos buenos resultados. ¿Pero de donde salió ese valor?. Pues realmente tuve que ejecutar este código que viene a continuación, donde vemos distintos valores k y la precisión obtenida."
   ]
  },
  {
   "cell_type": "code",
   "execution_count": 18,
   "metadata": {},
   "outputs": [
    {
     "data": {
      "text/plain": [
       "([<matplotlib.axis.XTick at 0x1a23e23ba8>,\n",
       "  <matplotlib.axis.XTick at 0x1a23d5ea20>,\n",
       "  <matplotlib.axis.XTick at 0x1a23d5eba8>,\n",
       "  <matplotlib.axis.XTick at 0x1a4bbcee80>,\n",
       "  <matplotlib.axis.XTick at 0x10f20b470>],\n",
       " <a list of 5 Text xticklabel objects>)"
      ]
     },
     "execution_count": 18,
     "metadata": {},
     "output_type": "execute_result"
    },
    {
     "data": {
      "image/png": "[encoded data removed]",
      "text/plain": [
       "<Figure size 432x288 with 1 Axes>"
      ]
     },
     "metadata": {
      "needs_background": "light"
     },
     "output_type": "display_data"
    }
   ],
   "source": [
    "k_range = range(1, 20)\n",
    "scores = []\n",
    "for k in k_range:\n",
    "    knn = KNeighborsClassifier(n_neighbors = k)\n",
    "    knn.fit(X_train, y_train)\n",
    "    scores.append(knn.score(X_test, y_test))\n",
    "plt.figure()\n",
    "plt.xlabel('k')\n",
    "plt.ylabel('accuracy')\n",
    "plt.scatter(k_range, scores)\n",
    "plt.xticks([0,5,10,15,20])"
   ]
  },
  {
   "cell_type": "markdown",
   "metadata": {},
   "source": [
    "En la gráfica vemos que con valores k=7 a k=14 es donde mayor precisión se logra."
   ]
  },
  {
   "cell_type": "markdown",
   "metadata": {},
   "source": [
    "## Clasificar y/o Predecir nuevas muestras"
   ]
  },
  {
   "cell_type": "markdown",
   "metadata": {},
   "source": [
    "Ya tenemos nuestro modelo y nuestro valor de k. Ahora supongamos que nos llegan nuevas reviews! veamos como predecir sus estrellas"
   ]
  },
  {
   "cell_type": "code",
   "execution_count": 19,
   "metadata": {},
   "outputs": [
    {
     "name": "stdout",
     "output_type": "stream",
     "text": [
      "[5]\n"
     ]
    }
   ],
   "source": [
    "print(clf.predict([[5, 1.0]]))"
   ]
  },
  {
   "cell_type": "markdown",
   "metadata": {},
   "source": [
    "Este resultado nos indica que para 5 palabras y sentimiento 1, nos valorarán la app con 5 estrellas."
   ]
  },
  {
   "cell_type": "markdown",
   "metadata": {},
   "source": [
    "Pero también podríamos obtener las probabilidades que de nos den 1, 2,3,4 o 5 estrellas con predict_proba():"
   ]
  },
  {
   "cell_type": "code",
   "execution_count": 20,
   "metadata": {},
   "outputs": [
    {
     "name": "stdout",
     "output_type": "stream",
     "text": [
      "[[0.00381998 0.02520212 0.97097789 0.         0.        ]]\n"
     ]
    }
   ],
   "source": [
    "print(clf.predict_proba([[20, 0.0]]))"
   ]
  },
  {
   "cell_type": "markdown",
   "metadata": {},
   "source": [
    "Aquí vemos que para las coordenadas 20, 0.0 hay 97% probabilidades que nos den 3 estrellas. Puedes comprobar en el gráfico anterior, que encajan en las zonas que delimitamos anteriormente."
   ]
  }
 ],
 "metadata": {
  "kernelspec": {
   "display_name": "Python 3",
   "language": "python",
   "name": "python3"
  },
  "language_info": {
   "codemirror_mode": {
    "name": "ipython",
    "version": 3
   },
   "file_extension": ".py",
   "mimetype": "text/x-python",
   "name": "python",
   "nbconvert_exporter": "python",
   "pygments_lexer": "ipython3",
   "version": "3.7.2"
  }
 },
 "nbformat": 4,
 "nbformat_minor": 2
}
