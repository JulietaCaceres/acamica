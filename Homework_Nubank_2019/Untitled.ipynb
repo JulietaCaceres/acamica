{
 "cells": [
  {
   "cell_type": "code",
   "execution_count": 1,
   "metadata": {},
   "outputs": [
    {
     "name": "stderr",
     "output_type": "stream",
     "text": [
      "/home/missPanda/repos/devenv3/lib64/python3.7/importlib/_bootstrap.py:219: RuntimeWarning: numpy.ufunc size changed, may indicate binary incompatibility. Expected 216, got 192\n",
      "  return f(*args, **kwds)\n"
     ]
    }
   ],
   "source": [
    "import pandas as pd\n",
    "import numpy as np\n",
    "import matplotlib.pyplot as plt"
   ]
  },
  {
   "cell_type": "code",
   "execution_count": 2,
   "metadata": {},
   "outputs": [],
   "source": [
    "data = pd.read_csv('puzzle_train_dataset.csv')"
   ]
  },
  {
   "cell_type": "markdown",
   "metadata": {},
   "source": [
    "## Data"
   ]
  },
  {
   "cell_type": "code",
   "execution_count": 3,
   "metadata": {},
   "outputs": [
    {
     "data": {
      "text/html": [
       "<div>\n",
       "<style scoped>\n",
       "    .dataframe tbody tr th:only-of-type {\n",
       "        vertical-align: middle;\n",
       "    }\n",
       "\n",
       "    .dataframe tbody tr th {\n",
       "        vertical-align: top;\n",
       "    }\n",
       "\n",
       "    .dataframe thead th {\n",
       "        text-align: right;\n",
       "    }\n",
       "</style>\n",
       "<table border=\"1\" class=\"dataframe\">\n",
       "  <thead>\n",
       "    <tr style=\"text-align: right;\">\n",
       "      <th></th>\n",
       "      <th>ids</th>\n",
       "      <th>default</th>\n",
       "      <th>score_1</th>\n",
       "      <th>score_2</th>\n",
       "      <th>score_3</th>\n",
       "      <th>score_4</th>\n",
       "      <th>score_5</th>\n",
       "      <th>score_6</th>\n",
       "      <th>risk_rate</th>\n",
       "      <th>amount_borrowed</th>\n",
       "      <th>...</th>\n",
       "      <th>state</th>\n",
       "      <th>zip</th>\n",
       "      <th>channel</th>\n",
       "      <th>job_name</th>\n",
       "      <th>real_state</th>\n",
       "      <th>ok_since</th>\n",
       "      <th>n_bankruptcies</th>\n",
       "      <th>n_defaulted_loans</th>\n",
       "      <th>n_accounts</th>\n",
       "      <th>n_issues</th>\n",
       "    </tr>\n",
       "  </thead>\n",
       "  <tbody>\n",
       "    <tr>\n",
       "      <th>0</th>\n",
       "      <td>810e3277-619e-3154-7ba0-ebddfc5f7ea9</td>\n",
       "      <td>False</td>\n",
       "      <td>smzX0nxh5QlePvtVf6EAeg==</td>\n",
       "      <td>tHpS8e9F8d9zg3iOQM9tsA==</td>\n",
       "      <td>710.0</td>\n",
       "      <td>104.174961</td>\n",
       "      <td>0.661509</td>\n",
       "      <td>123.015325</td>\n",
       "      <td>0.43</td>\n",
       "      <td>20024.31</td>\n",
       "      <td>...</td>\n",
       "      <td>xsd3ZdsI3356I3xMxZeiqQ==</td>\n",
       "      <td>i036nmJ7rfxo+3EvCD7Jnw==</td>\n",
       "      <td>NCqL3QBx0pscDnx3ixKwXg==</td>\n",
       "      <td>mLVIVxoGY7TUDJ1FyFoSIZi1SFcaBmO01AydRchaEiGYtU...</td>\n",
       "      <td>n+xK9CfX0bCn77lClTWviw==</td>\n",
       "      <td>14.0</td>\n",
       "      <td>1.0</td>\n",
       "      <td>0.0</td>\n",
       "      <td>9.0</td>\n",
       "      <td>9.0</td>\n",
       "    </tr>\n",
       "    <tr>\n",
       "      <th>1</th>\n",
       "      <td>b4118fd5-77d5-4d80-3617-bacd7aaf1a88</td>\n",
       "      <td>False</td>\n",
       "      <td>DGCQep2AE5QRkNCshIAlFQ==</td>\n",
       "      <td>RO7MTL+j4PH2gNzbhNTq/A==</td>\n",
       "      <td>330.0</td>\n",
       "      <td>97.880798</td>\n",
       "      <td>0.531115</td>\n",
       "      <td>110.913484</td>\n",
       "      <td>0.23</td>\n",
       "      <td>10046.51</td>\n",
       "      <td>...</td>\n",
       "      <td>xsd3ZdsI3356I3xMxZeiqQ==</td>\n",
       "      <td>oyrt7nHjoQSc58vCxgJF/w==</td>\n",
       "      <td>NCqL3QBx0pscDnx3ixKwXg==</td>\n",
       "      <td>mLVIVxoGY7TUDJ1FyFoSIZi1SFcaBmO01AydRchaEiGYtU...</td>\n",
       "      <td>n+xK9CfX0bCn77lClTWviw==</td>\n",
       "      <td>75.0</td>\n",
       "      <td>0.0</td>\n",
       "      <td>0.0</td>\n",
       "      <td>3.0</td>\n",
       "      <td>NaN</td>\n",
       "    </tr>\n",
       "    <tr>\n",
       "      <th>2</th>\n",
       "      <td>a75638f1-4662-4f4f-044a-d649b676d85d</td>\n",
       "      <td>False</td>\n",
       "      <td>8k8UDR4Yx0qasAjkGrUZLw==</td>\n",
       "      <td>wkeCdGeu5sEv4/fjwR0aDg==</td>\n",
       "      <td>360.0</td>\n",
       "      <td>97.908925</td>\n",
       "      <td>0.611086</td>\n",
       "      <td>104.620791</td>\n",
       "      <td>0.30</td>\n",
       "      <td>21228.25</td>\n",
       "      <td>...</td>\n",
       "      <td>/L8vvVesB5WyAv190Hw/rQ==</td>\n",
       "      <td>BMIK35trMYhh9yVrcGg/oQ==</td>\n",
       "      <td>NCqL3QBx0pscDnx3ixKwXg==</td>\n",
       "      <td>mLVIVxoGY7TUDJ1FyFoSIZi1SFcaBmO01AydRchaEiGYtU...</td>\n",
       "      <td>N5/CE7lSkAfB04hVFFwllw==</td>\n",
       "      <td>NaN</td>\n",
       "      <td>0.0</td>\n",
       "      <td>0.0</td>\n",
       "      <td>5.0</td>\n",
       "      <td>NaN</td>\n",
       "    </tr>\n",
       "    <tr>\n",
       "      <th>3</th>\n",
       "      <td>285ce334-3602-42b3-51cb-eebfcba48a09</td>\n",
       "      <td>False</td>\n",
       "      <td>4DLlLW62jReXaqbPaHp1vQ==</td>\n",
       "      <td>tQUTfUyeuGkhRotd+6WjVg==</td>\n",
       "      <td>120.0</td>\n",
       "      <td>100.434557</td>\n",
       "      <td>0.139784</td>\n",
       "      <td>120.134718</td>\n",
       "      <td>0.15</td>\n",
       "      <td>23032.33</td>\n",
       "      <td>...</td>\n",
       "      <td>GW2VZ3dN3OGHSjQ6JkfqQw==</td>\n",
       "      <td>coa2oOrpjxnQl4iyM7dTpQ==</td>\n",
       "      <td>NCqL3QBx0pscDnx3ixKwXg==</td>\n",
       "      <td>mLVIVxoGY7TUDJ1FyFoSIZi1SFcaBmO01AydRchaEiGYtU...</td>\n",
       "      <td>N5/CE7lSkAfB04hVFFwllw==</td>\n",
       "      <td>NaN</td>\n",
       "      <td>0.0</td>\n",
       "      <td>0.0</td>\n",
       "      <td>5.0</td>\n",
       "      <td>NaN</td>\n",
       "    </tr>\n",
       "    <tr>\n",
       "      <th>4</th>\n",
       "      <td>e643bf65-9288-92f2-df13-eed631fe237c</td>\n",
       "      <td>False</td>\n",
       "      <td>4DLlLW62jReXaqbPaHp1vQ==</td>\n",
       "      <td>7h8PTkrlTWUPP3yuyP4rUg==</td>\n",
       "      <td>330.0</td>\n",
       "      <td>103.774638</td>\n",
       "      <td>0.002856</td>\n",
       "      <td>104.320462</td>\n",
       "      <td>0.08</td>\n",
       "      <td>24026.29</td>\n",
       "      <td>...</td>\n",
       "      <td>sjJbkqJS7cXalHLBFA+EOQ==</td>\n",
       "      <td>xTrDMEf/Cnewxc1LO+pfbg==</td>\n",
       "      <td>NCqL3QBx0pscDnx3ixKwXg==</td>\n",
       "      <td>mLVIVxoGY7TUDJ1FyFoSIZi1SFcaBmO01AydRchaEiGYtU...</td>\n",
       "      <td>N5/CE7lSkAfB04hVFFwllw==</td>\n",
       "      <td>15.0</td>\n",
       "      <td>0.0</td>\n",
       "      <td>0.0</td>\n",
       "      <td>10.0</td>\n",
       "      <td>10.0</td>\n",
       "    </tr>\n",
       "  </tbody>\n",
       "</table>\n",
       "<p>5 rows × 27 columns</p>\n",
       "</div>"
      ],
      "text/plain": [
       "                                    ids default                   score_1  \\\n",
       "0  810e3277-619e-3154-7ba0-ebddfc5f7ea9   False  smzX0nxh5QlePvtVf6EAeg==   \n",
       "1  b4118fd5-77d5-4d80-3617-bacd7aaf1a88   False  DGCQep2AE5QRkNCshIAlFQ==   \n",
       "2  a75638f1-4662-4f4f-044a-d649b676d85d   False  8k8UDR4Yx0qasAjkGrUZLw==   \n",
       "3  285ce334-3602-42b3-51cb-eebfcba48a09   False  4DLlLW62jReXaqbPaHp1vQ==   \n",
       "4  e643bf65-9288-92f2-df13-eed631fe237c   False  4DLlLW62jReXaqbPaHp1vQ==   \n",
       "\n",
       "                    score_2  score_3     score_4   score_5     score_6  \\\n",
       "0  tHpS8e9F8d9zg3iOQM9tsA==    710.0  104.174961  0.661509  123.015325   \n",
       "1  RO7MTL+j4PH2gNzbhNTq/A==    330.0   97.880798  0.531115  110.913484   \n",
       "2  wkeCdGeu5sEv4/fjwR0aDg==    360.0   97.908925  0.611086  104.620791   \n",
       "3  tQUTfUyeuGkhRotd+6WjVg==    120.0  100.434557  0.139784  120.134718   \n",
       "4  7h8PTkrlTWUPP3yuyP4rUg==    330.0  103.774638  0.002856  104.320462   \n",
       "\n",
       "   risk_rate  amount_borrowed  ...                     state  \\\n",
       "0       0.43         20024.31  ...  xsd3ZdsI3356I3xMxZeiqQ==   \n",
       "1       0.23         10046.51  ...  xsd3ZdsI3356I3xMxZeiqQ==   \n",
       "2       0.30         21228.25  ...  /L8vvVesB5WyAv190Hw/rQ==   \n",
       "3       0.15         23032.33  ...  GW2VZ3dN3OGHSjQ6JkfqQw==   \n",
       "4       0.08         24026.29  ...  sjJbkqJS7cXalHLBFA+EOQ==   \n",
       "\n",
       "                        zip                   channel  \\\n",
       "0  i036nmJ7rfxo+3EvCD7Jnw==  NCqL3QBx0pscDnx3ixKwXg==   \n",
       "1  oyrt7nHjoQSc58vCxgJF/w==  NCqL3QBx0pscDnx3ixKwXg==   \n",
       "2  BMIK35trMYhh9yVrcGg/oQ==  NCqL3QBx0pscDnx3ixKwXg==   \n",
       "3  coa2oOrpjxnQl4iyM7dTpQ==  NCqL3QBx0pscDnx3ixKwXg==   \n",
       "4  xTrDMEf/Cnewxc1LO+pfbg==  NCqL3QBx0pscDnx3ixKwXg==   \n",
       "\n",
       "                                            job_name  \\\n",
       "0  mLVIVxoGY7TUDJ1FyFoSIZi1SFcaBmO01AydRchaEiGYtU...   \n",
       "1  mLVIVxoGY7TUDJ1FyFoSIZi1SFcaBmO01AydRchaEiGYtU...   \n",
       "2  mLVIVxoGY7TUDJ1FyFoSIZi1SFcaBmO01AydRchaEiGYtU...   \n",
       "3  mLVIVxoGY7TUDJ1FyFoSIZi1SFcaBmO01AydRchaEiGYtU...   \n",
       "4  mLVIVxoGY7TUDJ1FyFoSIZi1SFcaBmO01AydRchaEiGYtU...   \n",
       "\n",
       "                 real_state ok_since n_bankruptcies n_defaulted_loans  \\\n",
       "0  n+xK9CfX0bCn77lClTWviw==     14.0            1.0               0.0   \n",
       "1  n+xK9CfX0bCn77lClTWviw==     75.0            0.0               0.0   \n",
       "2  N5/CE7lSkAfB04hVFFwllw==      NaN            0.0               0.0   \n",
       "3  N5/CE7lSkAfB04hVFFwllw==      NaN            0.0               0.0   \n",
       "4  N5/CE7lSkAfB04hVFFwllw==     15.0            0.0               0.0   \n",
       "\n",
       "  n_accounts n_issues  \n",
       "0        9.0      9.0  \n",
       "1        3.0      NaN  \n",
       "2        5.0      NaN  \n",
       "3        5.0      NaN  \n",
       "4       10.0     10.0  \n",
       "\n",
       "[5 rows x 27 columns]"
      ]
     },
     "execution_count": 3,
     "metadata": {},
     "output_type": "execute_result"
    }
   ],
   "source": [
    "data.head()"
   ]
  },
  {
   "cell_type": "code",
   "execution_count": 4,
   "metadata": {},
   "outputs": [
    {
     "data": {
      "text/plain": [
       "Index(['ids', 'default', 'score_1', 'score_2', 'score_3', 'score_4', 'score_5',\n",
       "       'score_6', 'risk_rate', 'amount_borrowed', 'borrowed_in_months',\n",
       "       'credit_limit', 'reason', 'income', 'sign', 'gender',\n",
       "       'facebook_profile', 'state', 'zip', 'channel', 'job_name', 'real_state',\n",
       "       'ok_since', 'n_bankruptcies', 'n_defaulted_loans', 'n_accounts',\n",
       "       'n_issues'],\n",
       "      dtype='object')"
      ]
     },
     "execution_count": 4,
     "metadata": {},
     "output_type": "execute_result"
    }
   ],
   "source": [
    "data.columns"
   ]
  },
  {
   "cell_type": "code",
   "execution_count": 5,
   "metadata": {},
   "outputs": [
    {
     "name": "stdout",
     "output_type": "stream",
     "text": [
      "<class 'pandas.core.frame.DataFrame'>\n",
      "RangeIndex: 64592 entries, 0 to 64591\n",
      "Data columns (total 27 columns):\n",
      "ids                   64592 non-null object\n",
      "default               59966 non-null object\n",
      "score_1               63807 non-null object\n",
      "score_2               63807 non-null object\n",
      "score_3               63807 non-null float64\n",
      "score_4               64592 non-null float64\n",
      "score_5               64592 non-null float64\n",
      "score_6               64592 non-null float64\n",
      "risk_rate             63807 non-null float64\n",
      "amount_borrowed       63807 non-null float64\n",
      "borrowed_in_months    63807 non-null float64\n",
      "credit_limit          44839 non-null float64\n",
      "reason                63801 non-null object\n",
      "income                63807 non-null float64\n",
      "sign                  43825 non-null object\n",
      "gender                57406 non-null object\n",
      "facebook_profile      58185 non-null object\n",
      "state                 63807 non-null object\n",
      "zip                   63807 non-null object\n",
      "channel               63807 non-null object\n",
      "job_name              59797 non-null object\n",
      "real_state            63807 non-null object\n",
      "ok_since              26554 non-null float64\n",
      "n_bankruptcies        63605 non-null float64\n",
      "n_defaulted_loans     63789 non-null float64\n",
      "n_accounts            63807 non-null float64\n",
      "n_issues              48141 non-null float64\n",
      "dtypes: float64(14), object(13)\n",
      "memory usage: 13.3+ MB\n"
     ]
    }
   ],
   "source": [
    "data.info()"
   ]
  },
  {
   "cell_type": "code",
   "execution_count": 6,
   "metadata": {},
   "outputs": [
    {
     "data": {
      "text/plain": [
       "(64592, 27)"
      ]
     },
     "execution_count": 6,
     "metadata": {},
     "output_type": "execute_result"
    }
   ],
   "source": [
    "data.shape"
   ]
  },
  {
   "cell_type": "markdown",
   "metadata": {},
   "source": [
    "## ids"
   ]
  },
  {
   "cell_type": "code",
   "execution_count": 9,
   "metadata": {},
   "outputs": [
    {
     "data": {
      "text/plain": [
       "64592"
      ]
     },
     "execution_count": 9,
     "metadata": {},
     "output_type": "execute_result"
    }
   ],
   "source": [
    "len(data.ids.unique())"
   ]
  },
  {
   "cell_type": "code",
   "execution_count": 11,
   "metadata": {},
   "outputs": [
    {
     "data": {
      "text/plain": [
       "0    810e3277-619e-3154-7ba0-ebddfc5f7ea9\n",
       "1    b4118fd5-77d5-4d80-3617-bacd7aaf1a88\n",
       "2    a75638f1-4662-4f4f-044a-d649b676d85d\n",
       "3    285ce334-3602-42b3-51cb-eebfcba48a09\n",
       "4    e643bf65-9288-92f2-df13-eed631fe237c\n",
       "Name: ids, dtype: object"
      ]
     },
     "execution_count": 11,
     "metadata": {},
     "output_type": "execute_result"
    }
   ],
   "source": [
    "data.ids.head()"
   ]
  },
  {
   "cell_type": "markdown",
   "metadata": {},
   "source": [
    "## Score_1"
   ]
  },
  {
   "cell_type": "code",
   "execution_count": 16,
   "metadata": {},
   "outputs": [
    {
     "data": {
      "text/plain": [
       "8"
      ]
     },
     "execution_count": 16,
     "metadata": {},
     "output_type": "execute_result"
    }
   ],
   "source": [
    "len(data.score_1.unique())"
   ]
  },
  {
   "cell_type": "code",
   "execution_count": 18,
   "metadata": {},
   "outputs": [
    {
     "data": {
      "text/plain": [
       "DGCQep2AE5QRkNCshIAlFQ==    21029\n",
       "1Rk8w4Ucd5yR3KcqZzLdow==    16382\n",
       "4DLlLW62jReXaqbPaHp1vQ==    10660\n",
       "8k8UDR4Yx0qasAjkGrUZLw==     9182\n",
       "e4NYDor1NOw6XKGE60AWFw==     4254\n",
       "smzX0nxh5QlePvtVf6EAeg==     1885\n",
       "fyrlulOiZ+5hoFqLa6UbDQ==      415\n",
       "Name: score_1, dtype: int64"
      ]
     },
     "execution_count": 18,
     "metadata": {},
     "output_type": "execute_result"
    }
   ],
   "source": [
    "data.score_1.value_counts()"
   ]
  },
  {
   "cell_type": "markdown",
   "metadata": {},
   "source": [
    "## Score_2"
   ]
  },
  {
   "cell_type": "code",
   "execution_count": 25,
   "metadata": {},
   "outputs": [
    {
     "data": {
      "text/plain": [
       "35"
      ]
     },
     "execution_count": 25,
     "metadata": {},
     "output_type": "execute_result"
    }
   ],
   "source": [
    "len(data.score_2.value_counts())"
   ]
  },
  {
   "cell_type": "code",
   "execution_count": 24,
   "metadata": {},
   "outputs": [
    {
     "data": {
      "text/plain": [
       "osCzpM4hJrxugqWWuZmMWw==    5202\n",
       "SaamrHMo23l/3TwXOWgVzw==    4797\n",
       "RO7MTL+j4PH2gNzbhNTq/A==    4307\n",
       "/tdlnWjXoZ3OjdtBXzdOJQ==    3756\n",
       "rJZgTmANW3PjOCQLCcp4iQ==    3577\n",
       "Fv28Bz0YRTVAT5kl1bAV6g==    3395\n",
       "7h+tk4z7O9brtBSe1rNjxA==    3328\n",
       "IOVu8au3ISbo6+zmfnYwMg==    3215\n",
       "LCak332j+TYFqHC3NDwiqg==    3026\n",
       "pAzpxkhjPsjWldgSX21+zg==    3009\n",
       "dCm9hFKfdRm7ej3jW+gyxw==    2808\n",
       "tQUTfUyeuGkhRotd+6WjVg==    2727\n",
       "d/7Hedyz7ovK9Pn1CYN4+A==    2344\n",
       "OlDYtdljgSSYM/M1L2CRaQ==    2003\n",
       "7h8PTkrlTWUPP3yuyP4rUg==    1844\n",
       "wkeCdGeu5sEv4/fjwR0aDg==    1742\n",
       "+CxEO4w7jv3QPI/BQbyqAA==    1650\n",
       "YLGMUI9hObSh6wD/xfanGg==    1622\n",
       "emS9xH8CLoRNie2uSmaDAQ==    1458\n",
       "mX2VRRG38RPiHX+MfjefRw==    1443\n",
       "ky19q4V1ZqgL3jnHX0wKDw==    1048\n",
       "NLvAOzzmJba/0zolQnWF5Q==     963\n",
       "w1miZqhB5+RSamEQJa0rqg==     823\n",
       "cdpgyOyZS04uXerMNu7uCw==     765\n",
       "A+QuW1n/ABeiVVe/9CRZ9Q==     655\n",
       "bopP0NxW3+r8tn9xIHTaOw==     543\n",
       "tHpS8e9F8d9zg3iOQM9tsA==     428\n",
       "vJyc9xom9v7hwFMPTIpmKw==     408\n",
       "O4i7FxcROACMVTCgI0WXuA==     289\n",
       "6J1ZMTzN5GKHXnhM4J1JbA==     217\n",
       "wjdj2vxjWoDsEIk0l09ynw==     167\n",
       "+2hzpeP1RWr8PEvL1WTUdw==     107\n",
       "55UK234RR1d7HIWJjmq9tw==      76\n",
       "dWJRASUFMejk3AHZ1p1Gkg==      44\n",
       "5/uMrqKj3OL/Xk5OrGx9fg==      21\n",
       "Name: score_2, dtype: int64"
      ]
     },
     "execution_count": 24,
     "metadata": {},
     "output_type": "execute_result"
    }
   ],
   "source": [
    "data.score_2.value_counts()"
   ]
  },
  {
   "cell_type": "markdown",
   "metadata": {},
   "source": [
    "## score_3"
   ]
  },
  {
   "cell_type": "code",
   "execution_count": 27,
   "metadata": {},
   "outputs": [
    {
     "data": {
      "text/plain": [
       "88"
      ]
     },
     "execution_count": 27,
     "metadata": {},
     "output_type": "execute_result"
    }
   ],
   "source": [
    "len(data.score_3.value_counts())"
   ]
  },
  {
   "cell_type": "code",
   "execution_count": 30,
   "metadata": {},
   "outputs": [
    {
     "data": {
      "text/plain": [
       "<matplotlib.axes._subplots.AxesSubplot at 0x7f3cc2045400>"
      ]
     },
     "execution_count": 30,
     "metadata": {},
     "output_type": "execute_result"
    },
    {
     "data": {
      "image/png": "[encoded data removed]",
      "text/plain": [
       "<Figure size 432x288 with 1 Axes>"
      ]
     },
     "metadata": {
      "needs_background": "light"
     },
     "output_type": "display_data"
    }
   ],
   "source": [
    "data.score_3.value_counts().head(10).plot(kind = 'bar')"
   ]
  },
  {
   "cell_type": "code",
   "execution_count": 33,
   "metadata": {},
   "outputs": [
    {
     "data": {
      "text/plain": [
       "(array([1.2000e+01, 1.8900e+02, 1.1900e+03, 3.3710e+03, 6.6210e+03,\n",
       "        9.6530e+03, 1.1449e+04, 1.0834e+04, 8.5780e+03, 5.7500e+03,\n",
       "        3.3310e+03, 1.6290e+03, 7.4100e+02, 2.7400e+02, 1.2100e+02,\n",
       "        4.8000e+01, 9.0000e+00, 5.0000e+00, 1.0000e+00, 1.0000e+00]),\n",
       " array([  0. ,  49.5,  99. , 148.5, 198. , 247.5, 297. , 346.5, 396. ,\n",
       "        445.5, 495. , 544.5, 594. , 643.5, 693. , 742.5, 792. , 841.5,\n",
       "        891. , 940.5, 990. ]),\n",
       " <a list of 20 Patch objects>)"
      ]
     },
     "execution_count": 33,
     "metadata": {},
     "output_type": "execute_result"
    },
    {
     "data": {
      "image/png": "[encoded data removed]",
      "text/plain": [
       "<Figure size 432x288 with 1 Axes>"
      ]
     },
     "metadata": {
      "needs_background": "light"
     },
     "output_type": "display_data"
    }
   ],
   "source": [
    "fig, axs = plt.subplots(1, 1, sharey=True, tight_layout=True)\n",
    "\n",
    "# We can set the number of bins with the `bins` kwarg\n",
    "axs.hist(data.score_3, bins=20)"
   ]
  }
 ],
 "metadata": {
  "kernelspec": {
   "display_name": "Python 3",
   "language": "python",
   "name": "python3"
  },
  "language_info": {
   "codemirror_mode": {
    "name": "ipython",
    "version": 3
   },
   "file_extension": ".py",
   "mimetype": "text/x-python",
   "name": "python",
   "nbconvert_exporter": "python",
   "pygments_lexer": "ipython3",
   "version": "3.7.2"
  }
 },
 "nbformat": 4,
 "nbformat_minor": 2
}
