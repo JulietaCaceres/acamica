{
 "cells": [
  {
   "cell_type": "markdown",
   "metadata": {},
   "source": [
    "## Redes Neuronales"
   ]
  },
  {
   "cell_type": "code",
   "execution_count": 1,
   "metadata": {},
   "outputs": [],
   "source": [
    "import warnings\n",
    "warnings.filterwarnings('ignore')\n",
    "\n",
    "from sklearn.datasets import fetch_20newsgroups\n",
    "\n",
    "categories = ['alt.atheism', 'soc.religion.christian', \n",
    "              'comp.graphics', 'sci.med']\n",
    "\n",
    "twenty_train = fetch_20newsgroups(subset='train', \n",
    "                                  categories=categories, \n",
    "                                  shuffle=True, random_state=42)\n",
    "\n",
    "twenty_test = fetch_20newsgroups(subset='test',\n",
    "                                 categories=categories, \n",
    "                                 shuffle=True, random_state=42)"
   ]
  },
  {
   "cell_type": "code",
   "execution_count": 2,
   "metadata": {},
   "outputs": [],
   "source": [
    "from sklearn.feature_extraction.text import TfidfVectorizer\n"
   ]
  },
  {
   "cell_type": "code",
   "execution_count": 3,
   "metadata": {},
   "outputs": [],
   "source": [
    "tf_idf = TfidfVectorizer()\n",
    "X_train = tf_idf.fit_transform(twenty_train.data)\n",
    "X_test = tf_idf.transform(twenty_test.data)\n",
    "y_train = twenty_train.target\n",
    "y_test = twenty_test.target"
   ]
  },
  {
   "cell_type": "markdown",
   "metadata": {},
   "source": [
    "#### Perceptron"
   ]
  },
  {
   "cell_type": "code",
   "execution_count": 4,
   "metadata": {},
   "outputs": [
    {
     "data": {
      "text/plain": [
       "Perceptron(alpha=0.0001, class_weight=None, early_stopping=False, eta0=1.0,\n",
       "           fit_intercept=True, max_iter=1000, n_iter_no_change=5, n_jobs=None,\n",
       "           penalty=None, random_state=0, shuffle=True, tol=0.001,\n",
       "           validation_fraction=0.1, verbose=0, warm_start=False)"
      ]
     },
     "execution_count": 4,
     "metadata": {},
     "output_type": "execute_result"
    }
   ],
   "source": [
    "from sklearn.linear_model import Perceptron\n",
    "clf = Perceptron()\n",
    "clf.fit(X_train, y_train)\n"
   ]
  },
  {
   "cell_type": "code",
   "execution_count": 5,
   "metadata": {},
   "outputs": [],
   "source": [
    "y_pred = clf.predict(X_test)"
   ]
  },
  {
   "cell_type": "code",
   "execution_count": 6,
   "metadata": {},
   "outputs": [
    {
     "data": {
      "text/plain": [
       "0.9181091877496671"
      ]
     },
     "execution_count": 6,
     "metadata": {},
     "output_type": "execute_result"
    }
   ],
   "source": [
    "from sklearn.metrics import accuracy_score\n",
    "accuracy_score(y_test, y_pred)"
   ]
  },
  {
   "cell_type": "markdown",
   "metadata": {},
   "source": [
    "#### Multilayer Perceptron"
   ]
  },
  {
   "cell_type": "code",
   "execution_count": 7,
   "metadata": {},
   "outputs": [
    {
     "data": {
      "text/plain": [
       "MLPClassifier(activation='relu', alpha=0.0001, batch_size='auto', beta_1=0.9,\n",
       "              beta_2=0.999, early_stopping=False, epsilon=1e-08,\n",
       "              hidden_layer_sizes=(10,), learning_rate='constant',\n",
       "              learning_rate_init=0.001, max_fun=15000, max_iter=200,\n",
       "              momentum=0.9, n_iter_no_change=10, nesterovs_momentum=True,\n",
       "              power_t=0.5, random_state=42, shuffle=True, solver='adam',\n",
       "              tol=0.0001, validation_fraction=0.1, verbose=False,\n",
       "              warm_start=False)"
      ]
     },
     "execution_count": 7,
     "metadata": {},
     "output_type": "execute_result"
    }
   ],
   "source": [
    "from sklearn.neural_network import MLPClassifier\n",
    "mlp_clf = MLPClassifier(hidden_layer_sizes=(10,), random_state=42)\n",
    "mlp_clf.fit(X_train, y_train)\n"
   ]
  },
  {
   "cell_type": "code",
   "execution_count": 8,
   "metadata": {},
   "outputs": [
    {
     "data": {
      "text/plain": [
       "0.9300932090545939"
      ]
     },
     "execution_count": 8,
     "metadata": {},
     "output_type": "execute_result"
    }
   ],
   "source": [
    "y_pred = mlp_clf.predict(X_test)\n",
    "accuracy_score(y_test, y_pred)"
   ]
  },
  {
   "cell_type": "code",
   "execution_count": 9,
   "metadata": {},
   "outputs": [],
   "source": [
    "max_features = X_train.shape[1]"
   ]
  },
  {
   "cell_type": "code",
   "execution_count": 10,
   "metadata": {},
   "outputs": [
    {
     "name": "stderr",
     "output_type": "stream",
     "text": [
      "Using TensorFlow backend.\n"
     ]
    }
   ],
   "source": [
    "from sklearn.preprocessing import LabelEncoder\n",
    "from keras.utils import np_utils\n",
    "encoder = LabelEncoder()\n",
    "encoder.fit(y_train)\n",
    "encoded_Y = encoder.transform(y_train)\n",
    "\n",
    "dummy_y = np_utils.to_categorical(encoded_Y)"
   ]
  },
  {
   "cell_type": "code",
   "execution_count": 11,
   "metadata": {},
   "outputs": [
    {
     "name": "stdout",
     "output_type": "stream",
     "text": [
      "WARNING:tensorflow:From /home/missPanda/repos/devenv3/lib/python3.7/site-packages/tensorflow/python/framework/op_def_library.py:263: colocate_with (from tensorflow.python.framework.ops) is deprecated and will be removed in a future version.\n",
      "Instructions for updating:\n",
      "Colocations handled automatically by placer.\n",
      "_________________________________________________________________\n",
      "Layer (type)                 Output Shape              Param #   \n",
      "=================================================================\n",
      "dense_1 (Dense)              (None, 16)                572624    \n",
      "_________________________________________________________________\n",
      "dense_2 (Dense)              (None, 16)                272       \n",
      "_________________________________________________________________\n",
      "dense_3 (Dense)              (None, 4)                 68        \n",
      "=================================================================\n",
      "Total params: 572,964\n",
      "Trainable params: 572,964\n",
      "Non-trainable params: 0\n",
      "_________________________________________________________________\n"
     ]
    }
   ],
   "source": [
    "from keras.models import Sequential\n",
    "from keras import layers\n",
    "\n",
    "model = Sequential()\n",
    "model.add(layers.Dense(16, activation='relu', input_shape=(max_features,)))\n",
    "model.add(layers.Dense(16, activation='relu'))\n",
    "model.add(layers.Dense(4, activation='softmax'))\n",
    "model.summary()\n",
    "model.compile(optimizer='rmsprop', loss='categorical_crossentropy', metrics=['accuracy'])\n"
   ]
  },
  {
   "cell_type": "code",
   "execution_count": 12,
   "metadata": {},
   "outputs": [
    {
     "name": "stdout",
     "output_type": "stream",
     "text": [
      "WARNING:tensorflow:From /home/missPanda/repos/devenv3/lib/python3.7/site-packages/tensorflow/python/ops/math_ops.py:3066: to_int32 (from tensorflow.python.ops.math_ops) is deprecated and will be removed in a future version.\n",
      "Instructions for updating:\n",
      "Use tf.cast instead.\n",
      "Train on 1805 samples, validate on 452 samples\n",
      "Epoch 1/50\n",
      "1805/1805 [==============================] - 2s 1ms/step - loss: 1.3780 - acc: 0.4853 - val_loss: 1.3467 - val_acc: 0.8385\n",
      "Epoch 2/50\n",
      "1805/1805 [==============================] - 1s 456us/step - loss: 1.3232 - acc: 0.9252 - val_loss: 1.3028 - val_acc: 0.8916\n",
      "Epoch 3/50\n",
      "1805/1805 [==============================] - 1s 494us/step - loss: 1.2693 - acc: 0.9778 - val_loss: 1.2636 - val_acc: 0.9115\n",
      "Epoch 4/50\n",
      "1805/1805 [==============================] - 1s 471us/step - loss: 1.2199 - acc: 0.9839 - val_loss: 1.2248 - val_acc: 0.9071\n",
      "Epoch 5/50\n",
      "1805/1805 [==============================] - 1s 463us/step - loss: 1.1698 - acc: 0.9889 - val_loss: 1.1851 - val_acc: 0.9093\n",
      "Epoch 6/50\n",
      "1805/1805 [==============================] - 1s 499us/step - loss: 1.1182 - acc: 0.9922 - val_loss: 1.1450 - val_acc: 0.9115\n",
      "Epoch 7/50\n",
      "1805/1805 [==============================] - 1s 477us/step - loss: 1.0661 - acc: 0.9934 - val_loss: 1.1035 - val_acc: 0.9159\n",
      "Epoch 8/50\n",
      "1805/1805 [==============================] - 1s 444us/step - loss: 1.0128 - acc: 0.9945 - val_loss: 1.0618 - val_acc: 0.9137\n",
      "Epoch 9/50\n",
      "1805/1805 [==============================] - 1s 454us/step - loss: 0.9587 - acc: 0.9950 - val_loss: 1.0187 - val_acc: 0.9270\n",
      "Epoch 10/50\n",
      "1805/1805 [==============================] - 1s 448us/step - loss: 0.9043 - acc: 0.9956 - val_loss: 0.9761 - val_acc: 0.9292\n",
      "Epoch 11/50\n",
      "1805/1805 [==============================] - 1s 445us/step - loss: 0.8499 - acc: 0.9956 - val_loss: 0.9333 - val_acc: 0.9403\n",
      "Epoch 12/50\n",
      "1805/1805 [==============================] - 1s 446us/step - loss: 0.7960 - acc: 0.9961 - val_loss: 0.8901 - val_acc: 0.9469\n",
      "Epoch 13/50\n",
      "1805/1805 [==============================] - 1s 455us/step - loss: 0.7430 - acc: 0.9967 - val_loss: 0.8483 - val_acc: 0.9491\n",
      "Epoch 14/50\n",
      "1805/1805 [==============================] - 1s 442us/step - loss: 0.6909 - acc: 0.9972 - val_loss: 0.8075 - val_acc: 0.9513\n",
      "Epoch 15/50\n",
      "1805/1805 [==============================] - 1s 478us/step - loss: 0.6407 - acc: 0.9978 - val_loss: 0.7658 - val_acc: 0.9535\n",
      "Epoch 16/50\n",
      "1805/1805 [==============================] - 1s 442us/step - loss: 0.5917 - acc: 0.9978 - val_loss: 0.7272 - val_acc: 0.9580\n",
      "Epoch 17/50\n",
      "1805/1805 [==============================] - 1s 435us/step - loss: 0.5447 - acc: 0.9978 - val_loss: 0.6872 - val_acc: 0.9624\n",
      "Epoch 18/50\n",
      "1805/1805 [==============================] - 1s 435us/step - loss: 0.4995 - acc: 0.9978 - val_loss: 0.6498 - val_acc: 0.9646\n",
      "Epoch 19/50\n",
      "1805/1805 [==============================] - 1s 457us/step - loss: 0.4566 - acc: 0.9978 - val_loss: 0.6145 - val_acc: 0.9646\n",
      "Epoch 20/50\n",
      "1805/1805 [==============================] - 1s 433us/step - loss: 0.4159 - acc: 0.9978 - val_loss: 0.5798 - val_acc: 0.9646\n",
      "Epoch 21/50\n",
      "1805/1805 [==============================] - 1s 434us/step - loss: 0.3776 - acc: 0.9983 - val_loss: 0.5462 - val_acc: 0.9712\n",
      "Epoch 22/50\n",
      "1805/1805 [==============================] - 1s 434us/step - loss: 0.3418 - acc: 0.9983 - val_loss: 0.5147 - val_acc: 0.9690\n",
      "Epoch 23/50\n",
      "1805/1805 [==============================] - 1s 435us/step - loss: 0.3084 - acc: 0.9989 - val_loss: 0.4848 - val_acc: 0.9712\n",
      "Epoch 24/50\n",
      "1805/1805 [==============================] - 1s 477us/step - loss: 0.2777 - acc: 0.9989 - val_loss: 0.4569 - val_acc: 0.9690\n",
      "Epoch 25/50\n",
      "1805/1805 [==============================] - 1s 444us/step - loss: 0.2492 - acc: 0.9989 - val_loss: 0.4298 - val_acc: 0.9690\n",
      "Epoch 26/50\n",
      "1805/1805 [==============================] - 1s 444us/step - loss: 0.2232 - acc: 0.9989 - val_loss: 0.4050 - val_acc: 0.9690\n",
      "Epoch 27/50\n",
      "1805/1805 [==============================] - 1s 484us/step - loss: 0.1995 - acc: 0.9989 - val_loss: 0.3800 - val_acc: 0.9690\n",
      "Epoch 28/50\n",
      "1805/1805 [==============================] - 1s 505us/step - loss: 0.1779 - acc: 0.9994 - val_loss: 0.3577 - val_acc: 0.9690\n",
      "Epoch 29/50\n",
      "1805/1805 [==============================] - 1s 490us/step - loss: 0.1583 - acc: 0.9994 - val_loss: 0.3374 - val_acc: 0.9712\n",
      "Epoch 30/50\n",
      "1805/1805 [==============================] - 1s 440us/step - loss: 0.1405 - acc: 1.0000 - val_loss: 0.3189 - val_acc: 0.9690\n",
      "Epoch 31/50\n",
      "1805/1805 [==============================] - 1s 437us/step - loss: 0.1244 - acc: 1.0000 - val_loss: 0.3001 - val_acc: 0.9712\n",
      "Epoch 32/50\n",
      "1805/1805 [==============================] - 1s 438us/step - loss: 0.1100 - acc: 1.0000 - val_loss: 0.2830 - val_acc: 0.9690\n",
      "Epoch 33/50\n",
      "1805/1805 [==============================] - 1s 443us/step - loss: 0.0971 - acc: 1.0000 - val_loss: 0.2678 - val_acc: 0.9646\n",
      "Epoch 34/50\n",
      "1805/1805 [==============================] - 1s 436us/step - loss: 0.0856 - acc: 1.0000 - val_loss: 0.2537 - val_acc: 0.9690\n",
      "Epoch 35/50\n",
      "1805/1805 [==============================] - 1s 441us/step - loss: 0.0754 - acc: 1.0000 - val_loss: 0.2405 - val_acc: 0.9690\n",
      "Epoch 36/50\n",
      "1805/1805 [==============================] - 1s 455us/step - loss: 0.0663 - acc: 1.0000 - val_loss: 0.2278 - val_acc: 0.9712\n",
      "Epoch 37/50\n",
      "1805/1805 [==============================] - 1s 457us/step - loss: 0.0583 - acc: 1.0000 - val_loss: 0.2166 - val_acc: 0.9690\n",
      "Epoch 38/50\n",
      "1805/1805 [==============================] - 1s 470us/step - loss: 0.0512 - acc: 1.0000 - val_loss: 0.2053 - val_acc: 0.9712\n",
      "Epoch 39/50\n",
      "1805/1805 [==============================] - 1s 452us/step - loss: 0.0449 - acc: 1.0000 - val_loss: 0.1952 - val_acc: 0.9712\n",
      "Epoch 40/50\n",
      "1805/1805 [==============================] - 1s 435us/step - loss: 0.0393 - acc: 1.0000 - val_loss: 0.1871 - val_acc: 0.9712\n",
      "Epoch 41/50\n",
      "1805/1805 [==============================] - 1s 460us/step - loss: 0.0344 - acc: 1.0000 - val_loss: 0.1775 - val_acc: 0.9690\n",
      "Epoch 42/50\n",
      "1805/1805 [==============================] - 1s 461us/step - loss: 0.0301 - acc: 1.0000 - val_loss: 0.1701 - val_acc: 0.9690\n",
      "Epoch 43/50\n",
      "1805/1805 [==============================] - 1s 479us/step - loss: 0.0263 - acc: 1.0000 - val_loss: 0.1634 - val_acc: 0.9712\n",
      "Epoch 44/50\n",
      "1805/1805 [==============================] - 1s 434us/step - loss: 0.0229 - acc: 1.0000 - val_loss: 0.1560 - val_acc: 0.9690\n",
      "Epoch 45/50\n",
      "1805/1805 [==============================] - 1s 435us/step - loss: 0.0200 - acc: 1.0000 - val_loss: 0.1510 - val_acc: 0.9712\n",
      "Epoch 46/50\n",
      "1805/1805 [==============================] - 1s 435us/step - loss: 0.0174 - acc: 1.0000 - val_loss: 0.1443 - val_acc: 0.9690\n",
      "Epoch 47/50\n",
      "1805/1805 [==============================] - 1s 434us/step - loss: 0.0151 - acc: 1.0000 - val_loss: 0.1380 - val_acc: 0.9690\n",
      "Epoch 48/50\n",
      "1805/1805 [==============================] - 1s 434us/step - loss: 0.0131 - acc: 1.0000 - val_loss: 0.1340 - val_acc: 0.9690\n",
      "Epoch 49/50\n",
      "1805/1805 [==============================] - 1s 438us/step - loss: 0.0114 - acc: 1.0000 - val_loss: 0.1286 - val_acc: 0.9690\n",
      "Epoch 50/50\n",
      "1805/1805 [==============================] - 1s 436us/step - loss: 0.0099 - acc: 1.0000 - val_loss: 0.1253 - val_acc: 0.9690\n"
     ]
    },
    {
     "data": {
      "text/plain": [
       "<keras.callbacks.History at 0x7fee4ace9c50>"
      ]
     },
     "execution_count": 12,
     "metadata": {},
     "output_type": "execute_result"
    }
   ],
   "source": [
    "model.fit(X_train,dummy_y,batch_size=512,epochs=50,verbose=1,validation_split=0.2)\n"
   ]
  },
  {
   "cell_type": "code",
   "execution_count": 13,
   "metadata": {},
   "outputs": [],
   "source": [
    "from sklearn.metrics import accuracy_score\n",
    "y_pred = model.predict_classes(X_test)\n"
   ]
  },
  {
   "cell_type": "code",
   "execution_count": 14,
   "metadata": {},
   "outputs": [
    {
     "name": "stdout",
     "output_type": "stream",
     "text": [
      "0.918774966711052\n"
     ]
    }
   ],
   "source": [
    "print(accuracy_score(y_test, y_pred))"
   ]
  },
  {
   "cell_type": "code",
   "execution_count": null,
   "metadata": {},
   "outputs": [],
   "source": []
  }
 ],
 "metadata": {
  "kernelspec": {
   "display_name": "Python 3",
   "language": "python",
   "name": "python3"
  },
  "language_info": {
   "codemirror_mode": {
    "name": "ipython",
    "version": 3
   },
   "file_extension": ".py",
   "mimetype": "text/x-python",
   "name": "python",
   "nbconvert_exporter": "python",
   "pygments_lexer": "ipython3",
   "version": "3.7.2"
  }
 },
 "nbformat": 4,
 "nbformat_minor": 2
}
